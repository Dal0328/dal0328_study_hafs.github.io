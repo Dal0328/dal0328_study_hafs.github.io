{
 "cells": [
  {
   "cell_type": "markdown",
   "metadata": {},
   "source": [
    "# Result  \n",
    "\n",
    "-----------------------------------------\n",
    "80 * 80 사이즈, RGB\n",
    "8 * 8 필터 3개, Maxpooking 2 * 2\n",
    "5 * 5 필터 64개, Maxpooking 2 * 2\n",
    "3 * 3 필터 128개, Maxpooking 2 * 2\n",
    "전결합 레이어 1024개 , relu\n",
    "drop out 0.7\n",
    "전결합 레이어 512개 , relu\n",
    "drop out 0.7\n",
    "전결합 레이어 128개 , relu\n",
    "drop out 0.7\n",
    "softmax\n",
    "\n",
    "*result*\n",
    "정확도 0.9403\n",
    "\n",
    "---------------------------------------------\n",
    "\n",
    "-----------------------------------------\n",
    "80 * 80 사이즈, LA\n",
    "8 * 8 필터 3개, Maxpooking 2 * 2\n",
    "5 * 5 필터 64개, Maxpooking 2 * 2\n",
    "3 * 3 필터 128개, Maxpooking 2 * 2\n",
    "전결합 레이어 1024개 , relu\n",
    "drop out 0.7\n",
    "전결합 레이어 512개 , relu\n",
    "drop out 0.7\n",
    "전결합 레이어 128개 , relu\n",
    "drop out 0.7\n",
    "softmax\n",
    "\n",
    "*result*\n",
    "정확도 0.8657\n",
    "\n",
    "---------------------------------------------\n",
    "\n",
    "-----------------------------------------\n",
    "224 * 224 사이즈, LA\n",
    "3 * 3 필터 16개, Maxpooking 2 * 2\n",
    "3 * 3 필터 64개, Maxpooking 2 * 2\n",
    "3 * 3 필터 128개, Maxpooking 2 * 2\n",
    "softmax\n",
    "\n",
    "*result*\n",
    "정확도 0.9254\n",
    "\n",
    "---------------------------------------------\n"
   ]
  }
 ],
 "metadata": {
  "kernelspec": {
   "display_name": "Python 3",
   "language": "python",
   "name": "python3"
  },
  "language_info": {
   "codemirror_mode": {
    "name": "ipython",
    "version": 3
   },
   "file_extension": ".py",
   "mimetype": "text/x-python",
   "name": "python",
   "nbconvert_exporter": "python",
   "pygments_lexer": "ipython3",
   "version": "3.7.1"
  }
 },
 "nbformat": 4,
 "nbformat_minor": 2
}
