{
 "cells": [
  {
   "cell_type": "code",
   "execution_count": 35,
   "metadata": {},
   "outputs": [],
   "source": [
    "from PIL import Image\n",
    "import os, glob, numpy as np\n",
    "from sklearn.model_selection import train_test_split"
   ]
  },
  {
   "cell_type": "code",
   "execution_count": 36,
   "metadata": {},
   "outputs": [
    {
     "name": "stdout",
     "output_type": "stream",
     "text": [
      "cat  파일 길이 :  1396\n",
      "cat  :  C:/Users/dahyun/Desktop/image classification/multi_img_data/img_others/train//cat\\Abyssinian_1.jpg\n",
      "cat  :  C:/Users/dahyun/Desktop/image classification/multi_img_data/img_others/train//cat\\Bombay_200.jpg\n",
      "dog  파일 길이 :  2800\n",
      "dog  :  C:/Users/dahyun/Desktop/image classification/multi_img_data/img_others/train//dog\\american_bulldog_10.jpg\n",
      "dog  :  C:/Users/dahyun/Desktop/image classification/multi_img_data/img_others/train//dog\\beagle_193.jpg\n",
      "dog  :  C:/Users/dahyun/Desktop/image classification/multi_img_data/img_others/train//dog\\english_setter_1.jpg\n",
      "dog  :  C:/Users/dahyun/Desktop/image classification/multi_img_data/img_others/train//dog\\havanese_19.jpg\n",
      "ok 4196\n"
     ]
    }
   ],
   "source": [
    "caltech_dir = \"C:/Users/dahyun/Desktop/image classification/multi_img_data/img_others/train/\"\n",
    "categories = [\"cat\",\"dog\"]\n",
    "nb_classes = len(categories)\n",
    "\n",
    "image_w = 64\n",
    "image_h = 64\n",
    "\n",
    "pixels = image_h * image_w * 3\n",
    "\n",
    "X = []\n",
    "y = []\n",
    "\n",
    "for idx, cat in enumerate(categories):\n",
    "    \n",
    "    #one-hot 돌리기.\n",
    "    label = [0 for i in range(nb_classes)]\n",
    "    label[idx] = 1\n",
    "\n",
    "    image_dir = caltech_dir + \"/\" + cat\n",
    "    files = glob.glob(image_dir+\"/*.jpg\")\n",
    "    print(cat, \" 파일 길이 : \", len(files))\n",
    "    for i, f in enumerate(files):\n",
    "        img = Image.open(f)\n",
    "        img = img.convert(\"LA\")\n",
    "        img = img.resize((image_w, image_h))\n",
    "        data = np.asarray(img)\n",
    "\n",
    "        X.append(data)\n",
    "        y.append(label)\n",
    "\n",
    "        if i % 700 == 0:\n",
    "            print(cat, \" : \", f)\n",
    "\n",
    "X = np.array(X)\n",
    "y = np.array(y)\n",
    "#1 0 0 0 이면 airplanes\n",
    "#0 1 0 0 이면 buddha 이런식\n",
    "\n",
    "X_train, X_test, y_train, y_test = train_test_split(X, y)\n",
    "xy = (X_train, X_test, y_train, y_test)\n",
    "np.save(\"C:/Users/dahyun/Desktop/image classification/numpy_data/multi_image_data.npy\", xy)\n",
    "\n",
    "print(\"ok\", len(y))"
   ]
  },
  {
   "cell_type": "code",
   "execution_count": 37,
   "metadata": {},
   "outputs": [
    {
     "name": "stdout",
     "output_type": "stream",
     "text": [
      "(3147, 64, 64, 2)\n",
      "3147\n"
     ]
    }
   ],
   "source": [
    "import os, glob, numpy as np\n",
    "from keras.models import Sequential\n",
    "from keras.layers import Conv2D, MaxPooling2D, Dense, Flatten, Dropout\n",
    "from keras.callbacks import EarlyStopping, ModelCheckpoint\n",
    "import matplotlib.pyplot as plt\n",
    "import keras.backend.tensorflow_backend as K\n",
    "\n",
    "import tensorflow as tf\n",
    "config = tf.ConfigProto()\n",
    "config.gpu_options.allow_growth = True\n",
    "session = tf.Session(config=config)\n",
    "\n",
    "X_train, X_test, y_train, y_test = np.load('C:/Users/dahyun/Desktop/image classification/numpy_data/multi_image_data.npy',allow_pickle=True)\n",
    "print(X_train.shape)\n",
    "print(X_train.shape[0])"
   ]
  },
  {
   "cell_type": "code",
   "execution_count": 38,
   "metadata": {},
   "outputs": [],
   "source": [
    "categories = [\"cat\",\"dog\"]\n",
    "nb_classes = len(categories)\n",
    "\n",
    "#일반화\n",
    "X_train = X_train.astype(float) / 255\n",
    "X_test = X_test.astype(float) / 255"
   ]
  },
  {
   "cell_type": "code",
   "execution_count": 39,
   "metadata": {},
   "outputs": [],
   "source": [
    "with K.tf_ops.device('/device:GPU:0'):\n",
    "    model = Sequential()\n",
    "    model.add(Conv2D(32, (3,3), padding=\"same\", input_shape=X_train.shape[1:], activation='relu'))\n",
    "    model.add(MaxPooling2D(pool_size=(2,2)))\n",
    "    model.add(Dropout(0.25))\n",
    "    \n",
    "    model.add(Conv2D(64, (3,3), padding=\"same\", activation='relu'))\n",
    "    model.add(MaxPooling2D(pool_size=(2,2)))\n",
    "    model.add(Dropout(0.25))\n",
    "    \n",
    "    model.add(Flatten())\n",
    "    model.add(Dense(256, activation='relu'))\n",
    "    model.add(Dropout(0.5))\n",
    "    model.add(Dense(nb_classes, activation='softmax'))\n",
    "    model.compile(loss='categorical_crossentropy', optimizer='adam', metrics=['accuracy'])\n",
    "    model_dir = 'C:/Users/dahyun/Desktop/image classification/model'\n",
    "    \n",
    "    if not os.path.exists(model_dir):\n",
    "        os.mkdir(model_dir)\n",
    "    \n",
    "    model_path = model_dir + '/multi_img_classification.model'\n",
    "    checkpoint = ModelCheckpoint(filepath=model_path , monitor='val_loss', verbose=1, save_best_only=True)\n",
    "    early_stopping = EarlyStopping(monitor='val_loss', patience=6)"
   ]
  },
  {
   "cell_type": "code",
   "execution_count": 40,
   "metadata": {},
   "outputs": [
    {
     "name": "stdout",
     "output_type": "stream",
     "text": [
      "_________________________________________________________________\n",
      "Layer (type)                 Output Shape              Param #   \n",
      "=================================================================\n",
      "conv2d_7 (Conv2D)            (None, 64, 64, 32)        608       \n",
      "_________________________________________________________________\n",
      "max_pooling2d_7 (MaxPooling2 (None, 32, 32, 32)        0         \n",
      "_________________________________________________________________\n",
      "dropout_10 (Dropout)         (None, 32, 32, 32)        0         \n",
      "_________________________________________________________________\n",
      "conv2d_8 (Conv2D)            (None, 32, 32, 64)        18496     \n",
      "_________________________________________________________________\n",
      "max_pooling2d_8 (MaxPooling2 (None, 16, 16, 64)        0         \n",
      "_________________________________________________________________\n",
      "dropout_11 (Dropout)         (None, 16, 16, 64)        0         \n",
      "_________________________________________________________________\n",
      "flatten_4 (Flatten)          (None, 16384)             0         \n",
      "_________________________________________________________________\n",
      "dense_7 (Dense)              (None, 256)               4194560   \n",
      "_________________________________________________________________\n",
      "dropout_12 (Dropout)         (None, 256)               0         \n",
      "_________________________________________________________________\n",
      "dense_8 (Dense)              (None, 2)                 514       \n",
      "=================================================================\n",
      "Total params: 4,214,178\n",
      "Trainable params: 4,214,178\n",
      "Non-trainable params: 0\n",
      "_________________________________________________________________\n"
     ]
    }
   ],
   "source": [
    "model.summary()"
   ]
  },
  {
   "cell_type": "code",
   "execution_count": 41,
   "metadata": {},
   "outputs": [
    {
     "name": "stdout",
     "output_type": "stream",
     "text": [
      "Train on 2517 samples, validate on 630 samples\n",
      "Epoch 1/50\n",
      "2517/2517 [==============================] - 18s 7ms/step - loss: 0.6813 - acc: 0.6643 - val_loss: 0.6447 - val_acc: 0.6444\n",
      "\n",
      "Epoch 00001: val_loss improved from inf to 0.64471, saving model to C:/Users/dahyun/Desktop/image classification/model/multi_img_classification.model\n",
      "Epoch 2/50\n",
      "2517/2517 [==============================] - 15s 6ms/step - loss: 0.6187 - acc: 0.6790 - val_loss: 0.6310 - val_acc: 0.6698\n",
      "\n",
      "Epoch 00002: val_loss improved from 0.64471 to 0.63101, saving model to C:/Users/dahyun/Desktop/image classification/model/multi_img_classification.model\n",
      "Epoch 3/50\n",
      "2517/2517 [==============================] - 16s 6ms/step - loss: 0.6153 - acc: 0.6782 - val_loss: 0.6221 - val_acc: 0.6397\n",
      "\n",
      "Epoch 00003: val_loss improved from 0.63101 to 0.62209, saving model to C:/Users/dahyun/Desktop/image classification/model/multi_img_classification.model\n",
      "Epoch 4/50\n",
      "2517/2517 [==============================] - 15s 6ms/step - loss: 0.5924 - acc: 0.6877 - val_loss: 0.5966 - val_acc: 0.6778\n",
      "\n",
      "Epoch 00004: val_loss improved from 0.62209 to 0.59662, saving model to C:/Users/dahyun/Desktop/image classification/model/multi_img_classification.model\n",
      "Epoch 5/50\n",
      "2517/2517 [==============================] - 16s 6ms/step - loss: 0.5729 - acc: 0.7064 - val_loss: 0.5777 - val_acc: 0.6984\n",
      "\n",
      "Epoch 00005: val_loss improved from 0.59662 to 0.57773, saving model to C:/Users/dahyun/Desktop/image classification/model/multi_img_classification.model\n",
      "Epoch 6/50\n",
      "2517/2517 [==============================] - 16s 6ms/step - loss: 0.5360 - acc: 0.7271 - val_loss: 0.5752 - val_acc: 0.6905\n",
      "\n",
      "Epoch 00006: val_loss improved from 0.57773 to 0.57516, saving model to C:/Users/dahyun/Desktop/image classification/model/multi_img_classification.model\n",
      "Epoch 7/50\n",
      "2517/2517 [==============================] - 15s 6ms/step - loss: 0.4987 - acc: 0.7565 - val_loss: 0.5381 - val_acc: 0.7302\n",
      "\n",
      "Epoch 00007: val_loss improved from 0.57516 to 0.53811, saving model to C:/Users/dahyun/Desktop/image classification/model/multi_img_classification.model\n",
      "Epoch 8/50\n",
      "2517/2517 [==============================] - 16s 6ms/step - loss: 0.4684 - acc: 0.7660 - val_loss: 0.5415 - val_acc: 0.7206\n",
      "\n",
      "Epoch 00008: val_loss did not improve from 0.53811\n",
      "Epoch 9/50\n",
      "2517/2517 [==============================] - 16s 6ms/step - loss: 0.4479 - acc: 0.7930 - val_loss: 0.5708 - val_acc: 0.7349\n",
      "\n",
      "Epoch 00009: val_loss did not improve from 0.53811\n",
      "Epoch 10/50\n",
      "2517/2517 [==============================] - 17s 7ms/step - loss: 0.4144 - acc: 0.8057 - val_loss: 0.5367 - val_acc: 0.7429\n",
      "\n",
      "Epoch 00010: val_loss improved from 0.53811 to 0.53669, saving model to C:/Users/dahyun/Desktop/image classification/model/multi_img_classification.model\n",
      "Epoch 11/50\n",
      "2517/2517 [==============================] - 18s 7ms/step - loss: 0.3883 - acc: 0.8300 - val_loss: 0.5237 - val_acc: 0.7317\n",
      "\n",
      "Epoch 00011: val_loss improved from 0.53669 to 0.52370, saving model to C:/Users/dahyun/Desktop/image classification/model/multi_img_classification.model\n",
      "Epoch 12/50\n",
      "2517/2517 [==============================] - 17s 7ms/step - loss: 0.3694 - acc: 0.8359 - val_loss: 0.5410 - val_acc: 0.7286\n",
      "\n",
      "Epoch 00012: val_loss did not improve from 0.52370\n",
      "Epoch 13/50\n",
      "2517/2517 [==============================] - 16s 7ms/step - loss: 0.3290 - acc: 0.8554 - val_loss: 0.5656 - val_acc: 0.7460\n",
      "\n",
      "Epoch 00013: val_loss did not improve from 0.52370\n",
      "Epoch 14/50\n",
      "2517/2517 [==============================] - 16s 6ms/step - loss: 0.3158 - acc: 0.8617 - val_loss: 0.5587 - val_acc: 0.7397\n",
      "\n",
      "Epoch 00014: val_loss did not improve from 0.52370\n",
      "Epoch 15/50\n",
      "2517/2517 [==============================] - 16s 6ms/step - loss: 0.2748 - acc: 0.8844 - val_loss: 0.5637 - val_acc: 0.7365\n",
      "\n",
      "Epoch 00015: val_loss did not improve from 0.52370\n",
      "Epoch 16/50\n",
      "2517/2517 [==============================] - 17s 7ms/step - loss: 0.2584 - acc: 0.8971 - val_loss: 0.5638 - val_acc: 0.7444\n",
      "\n",
      "Epoch 00016: val_loss did not improve from 0.52370\n",
      "Epoch 17/50\n",
      "2517/2517 [==============================] - 16s 6ms/step - loss: 0.2275 - acc: 0.9035 - val_loss: 0.5998 - val_acc: 0.7302\n",
      "\n",
      "Epoch 00017: val_loss did not improve from 0.52370\n"
     ]
    }
   ],
   "source": [
    "#데이터셋이 적어서 validation을 그냥 test 데이터로 했습니다. \n",
    "#데이터셋이 충분하시면 이렇게 하시지 마시고 validation_split=0.2 이렇게 하셔서 테스트 셋으로 나누시길 권장합니다. validation_data=(X_test, y_test)\n",
    "history = model.fit(X_train, y_train, batch_size=32, epochs=50, validation_split=0.2 , callbacks=[checkpoint, early_stopping])"
   ]
  },
  {
   "cell_type": "code",
   "execution_count": 42,
   "metadata": {},
   "outputs": [
    {
     "name": "stdout",
     "output_type": "stream",
     "text": [
      "1049/1049 [==============================] - 2s 2ms/step\n",
      "정확도 : 0.7684\n"
     ]
    }
   ],
   "source": [
    "print(\"정확도 : %.4f\" % (model.evaluate(X_test, y_test)[1]))"
   ]
  },
  {
   "cell_type": "code",
   "execution_count": 43,
   "metadata": {},
   "outputs": [
    {
     "data": {
      "image/png": "[encoded data removed]",
      "text/plain": [
       "<Figure size 432x288 with 1 Axes>"
      ]
     },
     "metadata": {
      "needs_background": "light"
     },
     "output_type": "display_data"
    }
   ],
   "source": [
    "y_vloss = history.history['val_loss']\n",
    "y_loss = history.history['loss']\n",
    "\n",
    "x_len = np.arange(len(y_loss))\n",
    "\n",
    "plt.plot(x_len, y_vloss, marker='.', c='red', label='val_set_loss')\n",
    "plt.plot(x_len, y_loss, marker='.', c='blue', label='train_set_oss')\n",
    "plt.legend()\n",
    "plt.xlabel('epochs')\n",
    "plt.ylabel('loss')\n",
    "plt.grid()\n",
    "plt.show()"
   ]
  },
  {
   "cell_type": "code",
   "execution_count": 44,
   "metadata": {},
   "outputs": [
    {
     "name": "stdout",
     "output_type": "stream",
     "text": [
      "해당 Abyssinian_6.jpg이미지는 cat으로 추정됩니다.\n",
      "해당 american_pit_bull_terrier_2.jpg이미지는 cat으로 추정됩니다.\n",
      "해당 Bengal_146.jpg이미지는 cat으로 추정됩니다.\n",
      "해당 British_Shorthair_100.jpg이미지는 cat으로 추정됩니다.\n",
      "해당 British_Shorthair_101.jpg이미지는 cat으로 추정됩니다.\n",
      "해당 British_Shorthair_102.jpg이미지는 dog으로 추정됩니다.\n",
      "해당 British_Shorthair_103.jpg이미지는 cat으로 추정됩니다.\n",
      "해당 British_Shorthair_104.jpg이미지는 dog으로 추정됩니다.\n",
      "해당 British_Shorthair_105.jpg이미지는 cat으로 추정됩니다.\n",
      "해당 British_Shorthair_106.jpg이미지는 cat으로 추정됩니다.\n",
      "해당 British_Shorthair_107.jpg이미지는 cat으로 추정됩니다.\n",
      "해당 British_Shorthair_108.jpg이미지는 dog으로 추정됩니다.\n",
      "해당 British_Shorthair_109.jpg이미지는 cat으로 추정됩니다.\n",
      "해당 British_Shorthair_110.jpg이미지는 dog으로 추정됩니다.\n",
      "해당 British_Shorthair_111.jpg이미지는 cat으로 추정됩니다.\n",
      "해당 British_Shorthair_112.jpg이미지는 cat으로 추정됩니다.\n",
      "해당 British_Shorthair_113.jpg이미지는 dog으로 추정됩니다.\n",
      "해당 British_Shorthair_114.jpg이미지는 cat으로 추정됩니다.\n",
      "해당 British_Shorthair_115.jpg이미지는 cat으로 추정됩니다.\n",
      "해당 British_Shorthair_116.jpg이미지는 cat으로 추정됩니다.\n",
      "해당 British_Shorthair_117.jpg이미지는 dog으로 추정됩니다.\n",
      "해당 British_Shorthair_118.jpg이미지는 dog으로 추정됩니다.\n",
      "해당 British_Shorthair_119.jpg이미지는 cat으로 추정됩니다.\n",
      "해당 British_Shorthair_120.jpg이미지는 dog으로 추정됩니다.\n",
      "해당 British_Shorthair_121.jpg이미지는 cat으로 추정됩니다.\n",
      "해당 British_Shorthair_122.jpg이미지는 cat으로 추정됩니다.\n",
      "해당 British_Shorthair_123.jpg이미지는 dog으로 추정됩니다.\n",
      "해당 British_Shorthair_124.jpg이미지는 cat으로 추정됩니다.\n",
      "해당 British_Shorthair_125.jpg이미지는 cat으로 추정됩니다.\n",
      "해당 British_Shorthair_126.jpg이미지는 cat으로 추정됩니다.\n",
      "해당 British_Shorthair_127.jpg이미지는 cat으로 추정됩니다.\n",
      "해당 British_Shorthair_128.jpg이미지는 cat으로 추정됩니다.\n",
      "해당 British_Shorthair_129.jpg이미지는 cat으로 추정됩니다.\n",
      "해당 British_Shorthair_130.jpg이미지는 cat으로 추정됩니다.\n",
      "해당 British_Shorthair_133.jpg이미지는 cat으로 추정됩니다.\n",
      "해당 British_Shorthair_134.jpg이미지는 cat으로 추정됩니다.\n",
      "해당 British_Shorthair_135.jpg이미지는 cat으로 추정됩니다.\n",
      "해당 British_Shorthair_136.jpg이미지는 cat으로 추정됩니다.\n",
      "해당 British_Shorthair_137.jpg이미지는 cat으로 추정됩니다.\n",
      "해당 British_Shorthair_139.jpg이미지는 cat으로 추정됩니다.\n",
      "해당 British_Shorthair_140.jpg이미지는 cat으로 추정됩니다.\n",
      "해당 British_Shorthair_141.jpg이미지는 cat으로 추정됩니다.\n",
      "해당 British_Shorthair_144.jpg이미지는 cat으로 추정됩니다.\n",
      "해당 British_Shorthair_145.jpg이미지는 cat으로 추정됩니다.\n",
      "해당 British_Shorthair_148.jpg이미지는 dog으로 추정됩니다.\n",
      "해당 British_Shorthair_149.jpg이미지는 dog으로 추정됩니다.\n",
      "해당 British_Shorthair_151.jpg이미지는 cat으로 추정됩니다.\n",
      "해당 British_Shorthair_153.jpg이미지는 dog으로 추정됩니다.\n",
      "해당 British_Shorthair_154.jpg이미지는 dog으로 추정됩니다.\n",
      "해당 British_Shorthair_155.jpg이미지는 cat으로 추정됩니다.\n",
      "해당 British_Shorthair_157.jpg이미지는 cat으로 추정됩니다.\n",
      "해당 British_Shorthair_158.jpg이미지는 dog으로 추정됩니다.\n",
      "해당 British_Shorthair_159.jpg이미지는 dog으로 추정됩니다.\n",
      "해당 British_Shorthair_160.jpg이미지는 cat으로 추정됩니다.\n",
      "해당 British_Shorthair_161.jpg이미지는 dog으로 추정됩니다.\n",
      "해당 British_Shorthair_162.jpg이미지는 cat으로 추정됩니다.\n",
      "해당 British_Shorthair_163.jpg이미지는 dog으로 추정됩니다.\n",
      "해당 British_Shorthair_164.jpg이미지는 cat으로 추정됩니다.\n",
      "해당 British_Shorthair_165.jpg이미지는 cat으로 추정됩니다.\n",
      "해당 British_Shorthair_166.jpg이미지는 cat으로 추정됩니다.\n",
      "해당 British_Shorthair_167.jpg이미지는 cat으로 추정됩니다.\n",
      "해당 British_Shorthair_168.jpg이미지는 cat으로 추정됩니다.\n",
      "해당 British_Shorthair_169.jpg이미지는 dog으로 추정됩니다.\n",
      "해당 British_Shorthair_170.jpg이미지는 cat으로 추정됩니다.\n",
      "해당 British_Shorthair_172.jpg이미지는 dog으로 추정됩니다.\n",
      "해당 British_Shorthair_173.jpg이미지는 dog으로 추정됩니다.\n",
      "해당 British_Shorthair_95.jpg이미지는 cat으로 추정됩니다.\n",
      "해당 British_Shorthair_96.jpg이미지는 dog으로 추정됩니다.\n",
      "해당 British_Shorthair_97.jpg이미지는 cat으로 추정됩니다.\n",
      "해당 British_Shorthair_98.jpg이미지는 cat으로 추정됩니다.\n",
      "해당 British_Shorthair_99.jpg이미지는 cat으로 추정됩니다.\n"
     ]
    }
   ],
   "source": [
    "from PIL import Image\n",
    "import os, glob, numpy as np\n",
    "from keras.models import load_model\n",
    "\n",
    "caltech_dir = \"C:/Users/dahyun/Desktop/image classification/multi_img_data/imgs_others_test\"\n",
    "image_w = 64\n",
    "image_h = 64\n",
    "\n",
    "pixels = image_h * image_w * 3\n",
    "\n",
    "X = []\n",
    "filenames = []\n",
    "files = glob.glob(caltech_dir+\"/*.*\")\n",
    "for i, f in enumerate(files):\n",
    "    img = Image.open(f)\n",
    "    img = img.convert(\"LA\")\n",
    "    img = img.resize((image_w, image_h))\n",
    "    data = np.asarray(img)\n",
    "    filenames.append(f)\n",
    "    X.append(data)\n",
    "\n",
    "X = np.array(X)\n",
    "model = load_model('C:/Users/dahyun/Desktop/image classification/model/multi_img_classification.model')\n",
    "\n",
    "prediction = model.predict(X)\n",
    "np.set_printoptions(formatter={'float': lambda x: \"{0:0.3f}\".format(x)})\n",
    "cnt = 0\n",
    "\n",
    "#이 비교는 그냥 파일들이 있으면 해당 파일과 비교. 카테고리와 함께 비교해서 진행하는 것은 _4 파일.\n",
    "for i in prediction:\n",
    "    pre_ans = i.argmax()  # 예측 레이블\n",
    "    #print(i)\n",
    "    #print(pre_ans)\n",
    "    pre_ans_str = ''\n",
    "    if pre_ans == 0: pre_ans_str = \"cat\"\n",
    "    elif pre_ans == 1: pre_ans_str = \"dog\"\n",
    "    if i[0] >= 0.8 : print(\"해당 \"+filenames[cnt].split(\"\\\\\")[1]+\"이미지는 \"+pre_ans_str+\"으로 추정됩니다.\")\n",
    "    if i[1] >= 0.8: print(\"해당 \"+filenames[cnt].split(\"\\\\\")[1]+\"이미지는 \"+pre_ans_str+\"으로 추정됩니다.\")\n",
    "    #if i[2] >= 0.8: print(\"해당 \"+filenames[cnt].split(\"\\\\\")[1]+\"이미지는 \"+pre_ans_str+\"로 추정됩니다.\")\n",
    "    #if i[3] >= 0.8: print(\"해당 \"+filenames[cnt].split(\"\\\\\")[1]+\"이미지는 \"+pre_ans_str+\"로 추정됩니다.\")\n",
    "    cnt += 1\n",
    "    # print(i.argmax()) #얘가 레이블 [1. 0. 0.] 이런식으로 되어 있는 것을 숫자로 바꿔주는 것.\n",
    "    # 즉 얘랑, 나중에 카테고리 데이터 불러와서 카테고리랑 비교를 해서 같으면 맞는거고, 아니면 틀린거로 취급하면 된다.\n",
    "    # 이걸 한 것은 _4.py에."
   ]
  },
  {
   "cell_type": "code",
   "execution_count": null,
   "metadata": {},
   "outputs": [],
   "source": []
  }
 ],
 "metadata": {
  "kernelspec": {
   "display_name": "Python 3",
   "language": "python",
   "name": "python3"
  },
  "language_info": {
   "codemirror_mode": {
    "name": "ipython",
    "version": 3
   },
   "file_extension": ".py",
   "mimetype": "text/x-python",
   "name": "python",
   "nbconvert_exporter": "python",
   "pygments_lexer": "ipython3",
   "version": "3.7.1"
  }
 },
 "nbformat": 4,
 "nbformat_minor": 2
}
