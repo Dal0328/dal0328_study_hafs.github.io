{
 "cells": [
  {
   "cell_type": "code",
   "execution_count": null,
   "metadata": {},
   "outputs": [],
   "source": [
    "import sys\n",
    "import traceback\n",
    "import tellopy\n",
    "import av\n",
    "import cv2  \n",
    "import numpy\n",
    "from PIL import Image\n",
    "\n",
    "image_w = 128\n",
    "image_h = 128\n",
    "\n",
    "\n",
    "def main():\n",
    "    drone = tellopy.Tello()\n",
    "    count = 0\n",
    "    try:\n",
    "        drone.connect()\n",
    "        drone.wait_for_connection(60.0)\n",
    "        container = av.open(drone.get_video_stream())\n",
    "        # skip first 100 frames\n",
    "        frame_skip = 100\n",
    "        while True:\n",
    "            for frame in container.decode(video=0): # 조정 필요\n",
    "                if 0 < frame_skip:\n",
    "                    frame_skip = frame_skip - 1\n",
    "                    continue\n",
    "                image = cv2.cvtColor(numpy.array(frame.to_image()), cv2.COLOR_RGB2BGR)\n",
    "                count+=1\n",
    "                cv2.imwrite('C:/Users/dahyun/Desktop/ARC_AutoDriving_Drone/multi_img_data/img_others/unsorted_data/'+str(count)+'.jpg', image)\n",
    "                cv2.imshow('Original', image)\n",
    "                cv2.waitKey(1)\n",
    "                frame_skip = 30\n",
    "\n",
    "    except Exception as ex:\n",
    "        exc_type, exc_value, exc_traceback = sys.exc_info()\n",
    "        traceback.print_exception(exc_type, exc_value, exc_traceback)\n",
    "        print(ex)\n",
    "    finally:\n",
    "        drone.quit()\n",
    "        cv2.destroyAllWindows()\n",
    "\n",
    "main()\n"
   ]
  },
  {
   "cell_type": "code",
   "execution_count": null,
   "metadata": {},
   "outputs": [],
   "source": []
  }
 ],
 "metadata": {
  "kernelspec": {
   "display_name": "Python 3",
   "language": "python",
   "name": "python3"
  },
  "language_info": {
   "codemirror_mode": {
    "name": "ipython",
    "version": 3
   },
   "file_extension": ".py",
   "mimetype": "text/x-python",
   "name": "python",
   "nbconvert_exporter": "python",
   "pygments_lexer": "ipython3",
   "version": "3.7.1"
  }
 },
 "nbformat": 4,
 "nbformat_minor": 2
}
