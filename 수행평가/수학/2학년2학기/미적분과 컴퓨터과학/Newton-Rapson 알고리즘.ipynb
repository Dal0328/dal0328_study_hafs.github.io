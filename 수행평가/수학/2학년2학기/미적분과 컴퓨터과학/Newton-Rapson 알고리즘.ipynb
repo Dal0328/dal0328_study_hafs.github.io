{
 "cells": [
  {
   "cell_type": "code",
   "execution_count": 12,
   "metadata": {},
   "outputs": [
    {
     "name": "stdout",
     "output_type": "stream",
     "text": [
      "3.141613798281866\n"
     ]
    }
   ],
   "source": [
    "def Factorial(num,k=1) :\n",
    "    k = k*num\n",
    "    if num == 1 :\n",
    "        return k\n",
    "    else : return Factorial(num-1,k)\n",
    "\n",
    "def sinx(x) :\n",
    "    return x-(x**3/Factorial(3))+(x**5/Factorial(5))-(x**7/Factorial(7))+(x**9/Factorial(9))-(x**11/Factorial(11))+(x**13/Factorial(13))\n",
    "\n",
    "def sinx_prime(x) :\n",
    "    return 1-(x**2/Factorial(2))+(x**4/Factorial(4))-(x**6/Factorial(6))+(x**8/Factorial(8))-(x**10/Factorial(10))+(x**12/Factorial(12))\n",
    "\n",
    "def Newton_Rapson(x_n) :\n",
    "    return x_n-(sinx(x_n)/sinx_prime(x_n))\n",
    "\n",
    "x = 0\n",
    "x_after = 2\n",
    "x_list = []\n",
    "while abs(x_after-x)>0.000001  :\n",
    "    x = x_after\n",
    "    x_after = Newton_Rapson(x)\n",
    "    x_list.append(x_after)\n",
    "\n",
    "print(x_after)"
   ]
  },
  {
   "cell_type": "code",
   "execution_count": 13,
   "metadata": {},
   "outputs": [
    {
     "data": {
      "text/plain": [
       "[<matplotlib.lines.Line2D at 0x1c8a54837b8>]"
      ]
     },
     "execution_count": 13,
     "metadata": {},
     "output_type": "execute_result"
    },
    {
     "data": {
      "image/png": "[encoded data removed]",
      "text/plain": [
       "<Figure size 432x288 with 1 Axes>"
      ]
     },
     "metadata": {
      "needs_background": "light"
     },
     "output_type": "display_data"
    }
   ],
   "source": [
    "from matplotlib import pyplot as plt\n",
    "plt.plot(range(1,len(x_list)+1),x_list)"
   ]
  },
  {
   "cell_type": "code",
   "execution_count": null,
   "metadata": {},
   "outputs": [],
   "source": []
  }
 ],
 "metadata": {
  "kernelspec": {
   "display_name": "Python 3",
   "language": "python",
   "name": "python3"
  },
  "language_info": {
   "codemirror_mode": {
    "name": "ipython",
    "version": 3
   },
   "file_extension": ".py",
   "mimetype": "text/x-python",
   "name": "python",
   "nbconvert_exporter": "python",
   "pygments_lexer": "ipython3",
   "version": "3.7.1"
  }
 },
 "nbformat": 4,
 "nbformat_minor": 2
}
