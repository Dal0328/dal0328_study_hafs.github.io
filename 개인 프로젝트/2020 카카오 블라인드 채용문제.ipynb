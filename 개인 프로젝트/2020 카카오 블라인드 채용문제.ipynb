{
 "cells": [
  {
   "cell_type": "markdown",
   "metadata": {},
   "source": [
    "1.데이터 처리 전문가가 되고 싶은 “어피치”는 문자열을 압축하는 방법에 대해 공부를 하고 있습니다. 최근에 대량의 데이터 처리를 위한 간단한 비손실 압축 방법에 대해 공부를 하고 있는데, 문자열에서 같은 값이 연속해서 나타나는 것을 그 문자의 개수와 반복되는 값으로 표현하여 더 짧은 문자열로 줄여서 표현하는 알고리즘을 공부하고 있습니다. 간단한 예로 “aabbaccc”의 경우 “2a2ba3c”(문자가 반복되지 않아 한번만 나타난 경우 1은 생략함)와 같이 표현할 수 있는데, 이러한 방식은 반복되는 문자가 적은 경우 압축률이 낮다는 단점이 있습니다. 예를 들면, “abcabcdede”와 같은 문자열은 전혀 압축되지 않습니다. “어피치”는 이러한 단점을 해결하기 위해 문자열을 1개 이상의 단위로 잘라서 압축하여 더 짧은 문자열로 표현할 수 있는지 방법을 찾아보려고 합니다.\n",
    "\n",
    "예를 들어, “ababcdcdababcdcd”의 경우 문자를 1개 단위로 자르면 전혀 압축되지 않지만, 2개 단위로 잘라서 압축한다면 “2ab2cd2ab2cd”로 표현할 수 있습니다. 다른 방법으로 8개 단위로 잘라서 압축한다면 “2ababcdcd”로 표현할 수 있으며, 이때가 가장 짧게 압축하여 표현할 수 있는 방법입니다.\n",
    "\n",
    "다른 예로, “abcabcdede”와 같은 경우, 문자를 2개 단위로 잘라서 압축하면 “abcabc2de”가 되지만, 3개 단위로 자른다면 “2abcdede”가 되어 3개 단위가 가장 짧은 압축 방법이 됩니다. 이때 3개 단위로 자르고 마지막에 남는 문자열은 그대로 붙여주면 됩니다.\n",
    "\n",
    "압축할 문자열 s가 매개변수로 주어질 때, 위에 설명한 방법으로 1개 이상 단위로 문자열을 잘라 압축하여 표현한 문자열 중 가장 짧은 것의 길이를 return 하도록 solution 함수를 완성해주세요."
   ]
  },
  {
   "cell_type": "code",
   "execution_count": null,
   "metadata": {},
   "outputs": [],
   "source": [
    "sen = input('압축할 문자열을 입력하세요 : ')\n",
    "\n",
    "def zip_sen(sen,n) :\n",
    "    i =0 \n",
    "    zipped = ''\n",
    "    status = [False, 1]\n",
    "    while i < len(sen) :\n",
    "        if sen[i:i+n] == sen[i+n:i+n*2]:\n",
    "            i+=n\n",
    "            status[1] += 1\n",
    "            status[0] = True\n",
    "        elif sen[i:i+n] != sen[i+n:i+n*2] and status[0] :\n",
    "            status[0] = False\n",
    "            zipped += str(status[1])+sen[i:i+n]\n",
    "            i+=n\n",
    "            status[1] =1\n",
    "        else :\n",
    "            zipped += sen[i]\n",
    "            i+=1\n",
    "    return zipped\n",
    "\n",
    "answer = []\n",
    "for i in range(1,len(sen)//2+1) :\n",
    "    answer.append(len(zip_sen(sen,i)))\n",
    "\n",
    "print(min(answer))"
   ]
  },
  {
   "cell_type": "markdown",
   "metadata": {},
   "source": [
    "2.카카오에 신입 개발자로 입사한 “콘”은 선배 개발자로부터 개발 역량 강화를 위해 다른 개발자가 작성한 소스 코드를 분석하여 문제점을 발견하고 수정하라는 업무 과제를 받았습니다. 소스를 컴파일하여 로그를 보니 대부분 소스 코드 내 작성된 괄호가 개수는 맞지만 짝이 맞지 않은 형태로 작성되어 오류가 나는 것을 알게 되었습니다. 수정해야 할 소스 파일이 너무 많아서 고민하던 “콘”은 소스 코드에 작성된 모든 괄호를 뽑아서 올바른 순서대로 배치된 괄호 문자열을 알려주는 프로그램을 다음과 같이 개발하려고 합니다.\n",
    "\n",
    "입력이 빈 문자열인 경우, 빈 문자열을 반환합니다.\n",
    "문자열 w를 두 \"균형잡힌 괄호 문자열\" u, v로 분리합니다. 단, u는 \"균형잡힌 괄호 문자열\"로 더 이상 분리할 수 없어야 하며, v는 빈 문자열이 될 수 있습니다.\n",
    "문자열 u가 \"올바른 괄호 문자열\" 이라면 문자열 v에 대해 1단계부터 다시 수행합니다.\n",
    "3-1. 수행한 결과 문자열을 u에 이어 붙인 후 반환합니다.\n",
    "문자열 u가 \"올바른 괄호 문자열\"이 아니라면 아래 과정을 수행합니다.\n",
    "4-1. 빈 문자열에 첫 번째 문자로 '('를 붙입니다.\n",
    "4-2. 문자열 v에 대해 1단계부터 재귀적으로 수행한 결과 문자열을 이어 붙입니다.\n",
    "4-3. ')'를 다시 붙입니다.\n",
    "4-4. u의 첫 번째와 마지막 문자를 제거하고, 나머지 문자열의 괄호 방향을 뒤집어서 뒤에 붙입니다.\n",
    "4-5. 생성된 문자열을 반환합니다."
   ]
  },
  {
   "cell_type": "code",
   "execution_count": null,
   "metadata": {},
   "outputs": [],
   "source": [
    "sen = input('문자열을 입력하세요 : ')\n",
    "\n",
    "def err(sen) :\n",
    "    count = 0\n",
    "    error = False\n",
    "    if len(sen) == 0 :\n",
    "        return sen\n",
    "    else :\n",
    "        for i in range(len(sen)) :\n",
    "            if sen[i] == ')' : \n",
    "                count += 1\n",
    "            else : \n",
    "                count -= 1\n",
    "                if count < 0 : \n",
    "                    error = True\n",
    "            if count == 0 and (error):\n",
    "                return sen[0:i+1] + err(sen[i+1:])\n",
    "            elif count == 0 and (not error) :\n",
    "                return (len(sen[0:i+1])//2)*'('+(len(sen[0:i+1])//2)*')'+ err(sen[i+1:])\n",
    "\n",
    "print(err(sen))"
   ]
  },
  {
   "cell_type": "markdown",
   "metadata": {},
   "source": [
    "고고학자인 “튜브”는 고대 유적지에서 보물과 유적이 가득할 것으로 추정되는 비밀의 문을 발견하였습니다. 그런데 문을 열려고 살펴보니 특이한 형태의 자물쇠로 잠겨 있었고 문 앞에는 특이한 형태의 열쇠와 함께 자물쇠를 푸는 방법에 대해 다음과 같이 설명해 주는 종이가 발견되었습니다.\n",
    "\n",
    "잠겨있는 자물쇠는 격자 한 칸의 크기가 1 x 1인 N x N 크기의 정사각 격자 형태이고 특이한 모양의 열쇠는 M x M 크기인 정사각 격자 형태로 되어 있습니다.\n",
    "\n",
    "자물쇠에는 홈이 파여 있고 열쇠 또한 홈과 돌기 부분이 있습니다. 열쇠는 회전과 이동이 가능하며 열쇠의 돌기 부분을 자물쇠의 홈 부분에 딱 맞게 채우면 자물쇠가 열리게 되는 구조입니다. 자물쇠 영역을 벗어난 부분에 있는 열쇠의 홈과 돌기는 자물쇠를 여는 데 영향을 주지 않지만, 자물쇠 영역 내에서는 열쇠의 돌기 부분과 자물쇠의 홈 부분이 정확히 일치해야 하며 열쇠의 돌기와 자물쇠의 돌기가 만나서는 안됩니다. 또한 자물쇠의 모든 홈을 채워 비어있는 곳이 없어야 자물쇠를 열 수 있습니다.\n",
    "\n",
    "열쇠를 나타내는 2차원 배열 key와 자물쇠를 나타내는 2차원 배열 lock이 매개변수로 주어질 때, 열쇠로 자물쇠를 열수 있으면 true를, 열 수 없으면 false를 return 하도록 solution 함수를 완성해주세요."
   ]
  },
  {
   "cell_type": "code",
   "execution_count": null,
   "metadata": {},
   "outputs": [],
   "source": [
    "from copy import deepcopy\n",
    "\n",
    "key = [[0, 0, 0], [1, 0, 0], [0, 1, 1]]\n",
    "lock = [[1, 1, 1], [1, 1, 0], [1, 0, 1]]\n",
    "\n",
    "def rotate(key) :\n",
    "    N = len(key)\n",
    "    ret = [[0] * N for _ in range(N)]\n",
    "    for r in range(N):\n",
    "        for c in range(N):\n",
    "            ret[c][N-1-r] = key[r][c]\n",
    "    return ret\n",
    "\n",
    "def multiply_lock(lock) :\n",
    "    return [[0,0,0,lock[i%3][0],lock[i%3][1],lock[i%3][2],0,0,0] if i//3==1 else [0 for m in range(9)] for i in range(9)]\n",
    "\n",
    "def plus_list(key,lock,u,r) :\n",
    "    l = deepcopy(lock)\n",
    "    for i in range(3-u,6-u) :\n",
    "        for m in range(3+r,6+r) :\n",
    "            l[i][m] += key[i+u-3][m-r-3]\n",
    "    return l\n",
    "\n",
    "def judge(plist) :\n",
    "    return [[plist[i][m] for m in range(3,6)] for i in range(3,6)] == [[1 for m in range(3)] for i in range(3)]\n",
    "    \n",
    "lock = multiply_lock(lock)\n",
    "locked = True\n",
    "\n",
    "for i in range(4) :\n",
    "    key = rotate(key)\n",
    "    for m in range(-2,3) :\n",
    "        for k in range(-2,3) :\n",
    "            if judge(plus_list(key,lock,m,k)) :\n",
    "                print(True)\n",
    "                locked = False\n",
    "\n",
    "if locked : print(False)"
   ]
  },
  {
   "cell_type": "markdown",
   "metadata": {},
   "source": [
    "친구들로부터 천재 프로그래머로 불리는 “프로도”는 음악을 하는 친구로부터 자신이 좋아하는 노래 가사에 사용된 단어들 중에 특정 키워드가 몇 개 포함되어 있는지 궁금하니 프로그램으로 개발해 달라는 제안을 받았습니다. 그 제안 사항 중, 키워드는 와일드카드 문자 중 하나인 ‘?’가 포함된 패턴 형태의 문자열을 뜻합니다. 와일드카드 문자인 ‘?’는 글자 하나를 의미하며, 어떤 문자에도 매치된다고 가정합니다. 예를 들어 \"fro??\"는 \"frodo\", \"front\", \"frost\" 등에 매치되지만 \"frame\", \"frozen\"에는 매치되지 않습니다.\n",
    "\n",
    "가사에 사용된 모든 단어들이 담긴 배열 words와 찾고자 하는 키워드가 담긴 배열 queries가 주어질 때, 각 키워드 별로 매치된 단어가 몇 개인지 순서대로 배열에 담아 반환하도록 solution 함수를 완성해 주세요."
   ]
  },
  {
   "cell_type": "code",
   "execution_count": 51,
   "metadata": {},
   "outputs": [
    {
     "name": "stdout",
     "output_type": "stream",
     "text": [
      "[3, 2, 4, 1, 0]\n"
     ]
    }
   ],
   "source": [
    "words = [\"frodo\", \"front\", \"frost\", \"frozen\", \"frame\", \"kakao\"]\n",
    "queries = [\"fro??\", \"????o\", \"fr???\", \"fro???\", \"pro?\"]\n",
    "\n",
    "def reverse_list(words) :\n",
    "    wl = []\n",
    "    for word in words :\n",
    "        wl.append(''.join([list(word)[i] for i in range(len(word)-1,-1,-1)]))\n",
    "    return wl\n",
    "                \n",
    "r_words = reverse_list(words)\n",
    "r_q = reverse_list(queries)\n",
    "answer = []\n",
    "                  \n",
    "for i in range(len(queries)) :\n",
    "    count = 0\n",
    "    if queries[i][0] != '?' :\n",
    "        for word in words :\n",
    "            \n",
    "            h = True\n",
    "            for m in range(len(queries[i].replace('?',''))):\n",
    "                if word[m] != queries[i][m] : h = False \n",
    "            if h and len(queries[i])==len(word): count +=1\n",
    "        answer.append(count)\n",
    "    else :\n",
    "        for word in r_words :\n",
    "            h = True\n",
    "            for m in range(len(r_q[i].replace('?',''))):\n",
    "                if word[m] != r_q[i][m] : h = False \n",
    "            if h and len(queries[i])==len(word): count +=1\n",
    "        answer.append(count) \n",
    "print(answer)"
   ]
  },
  {
   "cell_type": "markdown",
   "metadata": {},
   "source": [
    "빙하가 깨지면서 스노우타운에 떠내려 온 “죠르디”는 인생 2막을 위해 주택 건축사업에 뛰어들기로 결심하였습니다. “죠르디”는 기둥과 보를 이용하여 벽면 구조물을 자동으로 세우는 로봇을 개발할 계획인데, 그에 앞서 로봇의 동작을 시뮬레이션 할 수 있는 프로그램을 만들고 있습니다. 프로그램은 2차원 가상 벽면에 기둥과 보를 이용한 구조물을 설치할 수 있는데, 기둥과 보는 길이가 1인 선분으로 표현되며 다음과 같은 규칙을 가지고 있습니다.\n",
    "\n",
    "기둥은 바닥 위에 있거나 보의 한쪽 끝 부분 위에 있거나, 또는 다른 기둥 위에 있어야 합니다.\n",
    "보는 한쪽 끝 부분이 기둥 위에 있거나, 또는 양쪽 끝 부분이 다른 보와 동시에 연결되어 있어야 합니다.\n",
    "단, 바닥은 벽면의 맨 아래 지면을 말합니다.\n",
    "\n",
    "2차원 벽면은 n x n 크기 정사각 격자 형태이며, 각 격자는 1 x 1 크기입니다. 맨 처음 벽면은 비어있는 상태입니다. 기둥과 보는 격자선의 교차점에 걸치지 않고, 격자 칸의 각 변에 정확히 일치하도록 설치할 수 있습니다. 다음은 기둥과 보를 설치해 구조물을 만든 예시입니다."
   ]
  },
  {
   "cell_type": "code",
   "execution_count": 61,
   "metadata": {},
   "outputs": [
    {
     "name": "stdout",
     "output_type": "stream",
     "text": [
      "[[1, 0, 0], [1, 1, 1], [2, 1, 0], [2, 2, 1], [3, 2, 1], [4, 2, 1], [5, 0, 0], [5, 1, 0]]\n"
     ]
    }
   ],
   "source": [
    "n = 6\n",
    "nl = [[-1 for m in range(n)] for i in range(n)]\n",
    "bf = [[1,0,0,1],[1,1,1,1],[2,1,0,1],[2,2,1,1],[5,0,0,1],[5,1,0,1],[4,2,1,1],[3,2,1,1]]\n",
    "\n",
    "for frame in bf :\n",
    "    if frame[-2] == 0 :\n",
    "        try :\n",
    "            if frame[1] == 0 or nl[frame[0]][frame[1]] == 1 or nl[frame[0]-1][frame[1]] == 1 or nl[frame[0]][frame[1]-1] == 0:\n",
    "                nl[frame[0]][frame[1]] = 0 \n",
    "            else : continue\n",
    "        except IndexError : continue\n",
    "    else :\n",
    "        try:\n",
    "            if nl[frame[0]][frame[1]-1] == 0 or nl[frame[0]+1][frame[1]-1] == 0 or (nl[frame[0]-1][frame[1]] == 1 and nl[frame[0]+1][frame[1]] == 1):\n",
    "                nl[frame[0]][frame[1]] = 1\n",
    "            else : continue\n",
    "        except IndexError : continue\n",
    "\n",
    "print([[i,k,nl[i][k]] for i in range(n) for k in range(n) if nl[i][k] != -1])"
   ]
  }
 ],
 "metadata": {
  "kernelspec": {
   "display_name": "Python 3",
   "language": "python",
   "name": "python3"
  },
  "language_info": {
   "codemirror_mode": {
    "name": "ipython",
    "version": 3
   },
   "file_extension": ".py",
   "mimetype": "text/x-python",
   "name": "python",
   "nbconvert_exporter": "python",
   "pygments_lexer": "ipython3",
   "version": "3.7.3"
  }
 },
 "nbformat": 4,
 "nbformat_minor": 2
}
