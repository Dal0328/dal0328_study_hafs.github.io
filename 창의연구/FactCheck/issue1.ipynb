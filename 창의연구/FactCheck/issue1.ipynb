{
 "cells": [
  {
   "cell_type": "markdown",
   "metadata": {},
   "source": [
    "# 확진 판정을 받은 장소에 가면 감염 위험이 있다?"
   ]
  },
  {
   "cell_type": "code",
   "execution_count": 7,
   "metadata": {},
   "outputs": [
    {
     "name": "stdout",
     "output_type": "stream",
     "text": [
      "['신천지 집단 감염으로 코로나19가 무서운 속도로 확산하면서 확진 환자 이동 경로에 대한 관심이 늘고 있습니다', '이미 질병관리본부에서 확진 환자의 이동 경로를 공개하고 있고, ‘코로나 알리미’, ‘코로나 맵’, ‘우리동네 코로나 지도’, ‘코로나 100m’, ‘코로나있다’, ‘신천지 위치 알림’등 코로나19 확진자 동선을 알려주는 앱들이 계속해서 등장하고 있는데요', '국내 확진자의 이동 동선과 방문 시설을 궁금해하는 이유는 혹시 모를 불안감에서인데요', ' 확진자가 거쳐 간 동선, 해당 건물 등을 다시 찾아도 될지 우려가 되는 것이죠', '코로나19 확진자가 늘어나면서, 우리의 생활반경에 확진자가 다녀갔다는 이야기를 들은 분들도 많으실 겁니다', '우선, 확진자가 방문한 장소에 같은 시간에 있었는지 체크해보시는 것이 좋습니다', ' 체외에서 벗어난 코로나19 바이러스의 생존 기간은 자연 상태에서 2~3일 정도인 것으로 알려졌는데요', '혹시나 확진자가 방문한 이후 2~3일 이내 동선 내 장소에 방문했다면, 질병관리본부 콜센터(1339)나 지역 보건소에 연락하셔야 합니다', '질병관리본부의 지휘하에 시도 및 시군구 역학조사반이 확진 환자의 증상, 마스크 착용 여부, 노출력 등을 고려해 증상 발생 1일 전부터 접촉자의 범위를 정하는데요', '코로나19 확진자가 증상을 보였던 시기(유증상기)에 2m 이내에서 접촉한 사람 또는 확진자가 폐쇄 공간에서 마스크를 쓰지 않고 기침을 한 경우 같은 공간에 있었던 사람 등은 역학조사관 판단을 거쳐 접촉자로 분류되고 자가격리 조치를 받게 됩니다', '마지막 접촉일부터 14일간 자가격리 및 능동감시를 받으며, 매일 2회 담당보건소로부터 유선으로 발열 및 호흡기 증상 여부를 확인받게 됩니다', '코로나19 확진 환자가 800여 명이 넘어가는 가운데, 확진자가 늘자 확진자가 다녀간 곳 역시 늘어나고 있습니다', '확진자가 다녀간 곳은 환승을 많이 하는 지하철 역사를 포함해 장을 보는 마트나 백화점 등도 동선에 포함되어 사실상 100% 피할 수 있는 곳들은 아닌 경우가 많은데요', '코로나19 확진자들이 갔던 곳은 방역과 소독을 철저히 하고 있지만, 그런데도 내심 불안한 마음도 있으실 겁니다', ' 하지만 그렇다고 해서 확진자가 다녀간 곳에 ‘무조건 가면 안 된다’‘갈 경우 코로나19에 걸릴 수 있다’는 가짜뉴스는 잘못된 정보인데요', '전문가들은 쇼핑몰이나 지하철역 등 사람이 많이 모이는 곳을 이용할 때, 개인위생만 철저히 준수해도 충분히 코로나19를 예방할 수 있다고 조언합니다', '코로나19의 전파경로가 기본적으로 감기나 사스, 메르스 등 다른 코로나바이러스와 비슷한 방식으로 전파되기 때문인데요', ' 이는 바로 신종코로나 환자가 기침이나 재채기를 할 때 나오는 바이러스에 오염된 침방울(비말)입니다', '환자의 침방울이 튈 수 있는 2m 이내 가까운 거리에 있어서 눈, 코, 입 등에 직접 들어가거나, 환자의 오염된 비말이나 타액 등을 다른 사람이 만져 감염되는 것이죠', '실제로 국내 첫 2차 감염된 6번 환자는 친구인 3번 환자와 강남 한일관 식당 테이블에서 같이 식사하다가 걸렸고, 6번 환자에서 옮아 국내 첫 3차 감염된 10번(아내) 환자와 11번 환자(아들)는 6번 환자의 가족으로 같은 공간(집)에서 밀접하게 지낸 것으로 알려져 있습니다', '그렇기 때문에 코로나19 확진자와 가까운 거리에서 대화하거나 식사를 함께하지 않은 이상, 한 공간에 있었다는 것만으로 감염 가능성을 논하기엔 무리가 있는 것이죠', '코로나바이러스는 대기 중에 노출되면 수 시간 내에 사멸한다는 것이 질병관리본부의 설명인데요', ' 바이러스에 노출된 표면을 깨끗이 소독하면 사실상 감염 가능성은 없습니다', ' 이에 따라 확진 환자 노출 장소는 통상 소독을 한 후 다음 날까지 사용을 금지하도록 하고 있고요', '물론 코로나19 감염 우려가 있어 음식점이나 쇼핑몰 등 사람이 많이 모이는 곳은 자제하는 것이 좋으며, 수시로 손을 씻고, 사람 많은 곳에 갈 땐 감기 증상이 없어도 마스크를 쓰는 것이 올바른 개인위생 수칙이란 건 잊지 말아야 합니다']\n"
     ]
    }
   ],
   "source": [
    "n = 5\n",
    "\n",
    "Doc = [[] for i in range(n)]\n",
    "\n",
    "for i in range(n):\n",
    "    with open(\"data/issue1/true/\"+str(i)+\".txt\", mode = 'r',encoding='UTF8') as f:\n",
    "        while True:   \n",
    "            line = f.readline()\n",
    "            if not line:\n",
    "                break\n",
    "            Doc[i].append(str(line).replace('\\n',''))\n",
    "    f.close()\n",
    "\n",
    "for k in range(len(Doc)) : \n",
    "    for i in range(len(Doc[k])) :\n",
    "        Doc[k][i] = Doc[k][i].split('.')[:-1]\n",
    "    Doc[k] = [j for i in Doc[k] for j in i]\n",
    "\n",
    "print(Doc[0])"
   ]
  },
  {
   "cell_type": "code",
   "execution_count": 8,
   "metadata": {},
   "outputs": [
    {
     "name": "stdout",
     "output_type": "stream",
     "text": [
      "그렇기 때문에 코로나19 확진자와 가까운 거리에서 대화하거나 식사를 함께하지 않은 이상, 한 공간에 있었다는 것만으로 감염 가능성을 논하기엔 무리가 있는 것이죠\n",
      " 즉, 확진자가 지나간 곳에 갔거나 들렀다고 해서 무조건 바이러스에 감염되지는 않는다는 얘기다\n",
      " 의심환자가 확진자 동선에 방문한 시기가 '소독 이후'라면 감염 가능성은 거의 없다고 봅니다\n",
      " 그렇기 때문에 접촉자의 ‘접촉자’는 감염 우려가 없으므로, 접촉자와 거주 또는 근무 공간에 같이 있었다는 이유만으로 감염될 것이라는 불안감을 가질 필요는 없습니다\n",
      "정부가 확진자의 동선을 보다 빠르게 확인하고, 투명하게 공개해야 하는 이유입니다\n"
     ]
    }
   ],
   "source": [
    "from konlpy.tag import Okt\n",
    "import math\n",
    "okt = Okt()\n",
    "\n",
    "keySen_true = []\n",
    "\n",
    "def tf(textList):\n",
    "    senList = [okt.nouns(i) for i in textList]\n",
    "    total = sum([len(i) for i in senList])\n",
    "    totalList = [j for i in [k for k in senList] for j in i]\n",
    "    for i,v in enumerate(senList) : \n",
    "        senList[i] = [totalList.count(k)/total for k in v]\n",
    "    return senList\n",
    "\n",
    "def idf(textList):\n",
    "    senList = [okt.nouns(i) for i in textList]\n",
    "    numSen = len(senList)\n",
    "    for i,v in enumerate(senList) :\n",
    "        senList[i] = [math.log10(len([j for j in senList if k in j])/numSen) for k in v]\n",
    "    return senList\n",
    "\n",
    "def tfidf(textList):\n",
    "    tfList = tf(textList)\n",
    "    idfList = idf(textList)\n",
    "    tfidfList = [[tfList[i][k]*idfList[i][k] for k in range(len(tfList[i]))] for i in range(len(tfList))]\n",
    "    tfidfList = [sum(tfidfList[i])/len(tfidfList[i]) for i in range(len(tfidfList))]\n",
    "    return textList[tfidfList.index(sorted(tfidfList)[0])]\n",
    "    \n",
    "for i in range(n) :\n",
    "    keySen_true.append(tfidf(Doc[i]))\n",
    "    print(tfidf(Doc[i]))"
   ]
  },
  {
   "cell_type": "code",
   "execution_count": 5,
   "metadata": {},
   "outputs": [
    {
     "name": "stdout",
     "output_type": "stream",
     "text": [
      "['그 건물 확진자가 월요일 아침 8시에 확진 판정나고 건물 방역은 바로 들어가진 않았을거 같고 그날 아는 분이 그 건물에서 아는 지인과 점심을 11시 넘어 먹고 왔다고 들었는데', '그 확진자 확진 판정 전에 간 건 아니어도 그 건물 안에 균이 있지 않을까도 싶고', '보건소에 물어 봐야 하는거 아닌지', '자기는 괜찮을 거라고는 하지만']\n"
     ]
    }
   ],
   "source": [
    "n = 3\n",
    "\n",
    "Doc = [[] for i in range(n)]\n",
    "\n",
    "for i in range(n):\n",
    "    with open(\"data/issue1/false/\"+str(i)+\".txt\", mode = 'r',encoding='UTF8') as f:\n",
    "        while True:   \n",
    "            line = f.readline()\n",
    "            if not line:\n",
    "                break\n",
    "            Doc[i].append(str(line).replace('\\n',''))\n",
    "            \n",
    "    f.close()\n",
    "\n",
    "for k in range(len(Doc)) : \n",
    "    for i in range(len(Doc[k])) :\n",
    "        Doc[k][i] = Doc[k][i].split('.')[:-1]\n",
    "    Doc[k] = [j for i in Doc[k] for j in i]\n",
    "\n",
    "print(Doc[0])"
   ]
  },
  {
   "cell_type": "code",
   "execution_count": 6,
   "metadata": {},
   "outputs": [
    {
     "name": "stdout",
     "output_type": "stream",
     "text": [
      "그 확진자 확진 판정 전에 간 건 아니어도 그 건물 안에 균이 있지 않을까도 싶고\n",
      "아직도 뻔뻔하게 확진자가 다녀간 다음에도 문을 열고 있네요\n",
      "모든 사람들이 확진자 동선을 파악할 수 있는 것도 아니고, 가게가 주체적으로 폐쇄해야 한다\n"
     ]
    }
   ],
   "source": [
    "keySen_false = []\n",
    "\n",
    "def tf(textList):\n",
    "    senList = [okt.nouns(i) for i in textList]\n",
    "    total = sum([len(i) for i in senList])\n",
    "    totalList = [j for i in [k for k in senList] for j in i]\n",
    "    for i,v in enumerate(senList) : \n",
    "        senList[i] = [totalList.count(k)/total for k in v]\n",
    "    return senList\n",
    "\n",
    "def idf(textList):\n",
    "    senList = [okt.nouns(i) for i in textList]\n",
    "    numSen = len(senList)\n",
    "    for i,v in enumerate(senList) :\n",
    "        senList[i] = [math.log10(len([j for j in senList if k in j])/numSen) for k in v]\n",
    "    return senList\n",
    "\n",
    "def tfidf(textList):\n",
    "    tfList = tf(textList)\n",
    "    idfList = idf(textList)\n",
    "    tfidfList = [[tfList[i][k]*idfList[i][k] for k in range(len(tfList[i]))] for i in range(len(tfList))]\n",
    "    tfidfList = [sum(tfidfList[i])/len(tfidfList[i]) for i in range(len(tfidfList))]\n",
    "    return textList[tfidfList.index(sorted(tfidfList)[0])]\n",
    "    \n",
    "for i in range(n) :\n",
    "    keySen_false.append(tfidf(Doc[i]))\n",
    "    print(tfidf(Doc[i]))"
   ]
  },
  {
   "cell_type": "code",
   "execution_count": null,
   "metadata": {},
   "outputs": [],
   "source": []
  }
 ],
 "metadata": {
  "kernelspec": {
   "display_name": "Python 3",
   "language": "python",
   "name": "python3"
  },
  "language_info": {
   "codemirror_mode": {
    "name": "ipython",
    "version": 3
   },
   "file_extension": ".py",
   "mimetype": "text/x-python",
   "name": "python",
   "nbconvert_exporter": "python",
   "pygments_lexer": "ipython3",
   "version": "3.7.1"
  }
 },
 "nbformat": 4,
 "nbformat_minor": 2
}
