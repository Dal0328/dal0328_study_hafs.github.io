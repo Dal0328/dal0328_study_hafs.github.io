{
 "cells": [
  {
   "cell_type": "markdown",
   "metadata": {},
   "source": [
    "# 의료진의 방호복과 마스크의 공급이 부족하다?"
   ]
  },
  {
   "cell_type": "code",
   "execution_count": 70,
   "metadata": {},
   "outputs": [
    {
     "name": "stdout",
     "output_type": "stream",
     "text": [
      "['세계보건기구(WHO)가 신종 코로나바이러스 감염증(코로나19)의 세계적 대유행(팬데믹)을 선언하면서 세계적으로 의료용 방역물품 수요가 급증할 것으로 예상되는 가운데 정부가 이달 내 방호복 180만개, 방역용 마스크 200만개 등을 추가 확보할 계획이다', ' 방역물품 제조 기업에 대해 지원책을 마련한다', '중앙재난안전대책본부(이하 중대본)은 16일 정세균 본부장(국무총리) 주재로 각 중앙부처 및 17개 시도와 함께 의료용 방역물품 수급 관리 방향 등을 논의했다고 밝혔다', '9일 오후 서울 양천구 서남병원에서 의료진이 대구·경북 지역에서 출발한 신종 코로나바이러스 감염증(코로나19) 확진자를 병원으로 이송하고 있다', '정부는 의료용 방역물품의 전략적 수급관리 계획을 마련해 국내 생산 확대를 지원하고 방역물품을 상시 구매·비축할 예정이다', '우선 정부는 방역물품 제조업체의 국내 생산 확대를 지원해 안정적 공급기반을 마련할 계획이다', '방호복 등 해외 임가공 생산 구조를 점진적으로 국내 임가공으로 전환해 국내 일자리를 창출하고, 방역물품 제조기업에 대한 연구개발 지원, 경영·금융 컨설팅 등 통해 생산능력 및 제품경쟁력을 향상시킬 예정이다', '또한, 방역물품에 대한 상시 구매·비축을 통해 안정적인 국내 수요를 창출하고 관련 산업을 활성화하겠다는 전략이다', '3월 내 레벨D 방호복 180만개, 방역용 마스크(N95) 200만개 등을 추가 확보할 계획이며 4월 이후에도 국내 생산업체 지원 등을 통해 방호복 250만개, 방역용 마스크 300만개 이상을 확보할 방침이다', '5월말까지는 필요량 충족 후 추가적으로 레벨D 방호복 100만개를 비축·유지할 수 있도록 방역물품의 생산과 수입 확대를 추진할 예정이다']\n"
     ]
    }
   ],
   "source": [
    "n = 5\n",
    "\n",
    "Doc = [[] for i in range(n)]\n",
    "\n",
    "for i in range(n):\n",
    "    with open(\"data/issue2/true/\"+str(i)+\".txt\", mode = 'r',encoding='UTF8') as f:\n",
    "        while True:   \n",
    "            line = f.readline()\n",
    "            if not line:\n",
    "                break\n",
    "            Doc[i].append(str(line).replace('\\n',''))\n",
    "    f.close()\n",
    "\n",
    "for k in range(len(Doc)) : \n",
    "    for i in range(len(Doc[k])) :\n",
    "        Doc[k][i] = Doc[k][i].split('.')[:-1]\n",
    "    Doc[k] = [j for i in Doc[k] for j in i]\n",
    "\n",
    "print(Doc[0])"
   ]
  },
  {
   "cell_type": "code",
   "execution_count": 71,
   "metadata": {},
   "outputs": [
    {
     "name": "stdout",
     "output_type": "stream",
     "text": [
      "3월 내 레벨D 방호복 180만개, 방역용 마스크(N95) 200만개 등을 추가 확보할 계획이며 4월 이후에도 국내 생산업체 지원 등을 통해 방호복 250만개, 방역용 마스크 300만개 이상을 확보할 방침이다\n",
      "정부는 보도에서 언급된 사례에 대해 면밀히 조사하여, 코로나19 예방 및 치료를 위해 헌신한 의료진이 방역물품을 지원받지 못하거나, 또 본인의 희망에도 불구하고 감염검사를 받지 못하는 불합리한 사례가 발생하지 않도록 조치하겠습니다\n",
      " 전 방역체계에 방호복이 부족한 것처럼 말하면 현장의 사람들은 너무 섭섭하다”고 밝혔다\n",
      "이어 \"지역 봉제조합과 국내 소규모 봉제업체와 협업해 4월 155만, 5월 이후 월 200만 벌 등 필요량 대부분을 국내생산으로 조달할 계획\"이라고 덧붙였다\n",
      "이에 실제로는 현장에서 보호구 수량이 부족한 경우가 아직 없다는 설명이다\n"
     ]
    }
   ],
   "source": [
    "from konlpy.tag import Okt\n",
    "import math\n",
    "okt = Okt()\n",
    "\n",
    "keySen_true = []\n",
    "\n",
    "def tf(textList):\n",
    "    senList = [okt.nouns(i) for i in textList]\n",
    "    total = sum([len(i) for i in senList])\n",
    "    totalList = [j for i in [k for k in senList] for j in i]\n",
    "    for i,v in enumerate(senList) : \n",
    "        senList[i] = [totalList.count(k)/total for k in v]\n",
    "    return senList\n",
    "\n",
    "def idf(textList):\n",
    "    senList = [okt.nouns(i) for i in textList]\n",
    "    numSen = len(senList)\n",
    "    for i,v in enumerate(senList) :\n",
    "        senList[i] = [math.log10(len([j for j in senList if k in j])/numSen) for k in v]\n",
    "    return senList\n",
    "\n",
    "def tfidf(textList):\n",
    "    tfList = tf(textList)\n",
    "    idfList = idf(textList)\n",
    "    tfidfList = [[tfList[i][k]*idfList[i][k] for k in range(len(tfList[i]))] for i in range(len(tfList))]\n",
    "    tfidfList = [sum(tfidfList[i])/len(tfidfList[i]) for i in range(len(tfidfList))]\n",
    "    return textList[tfidfList.index(sorted(tfidfList)[0])]\n",
    "    \n",
    "for i in range(n) :\n",
    "    keySen_true.append(tfidf(Doc[i]))\n",
    "    print(tfidf(Doc[i]))"
   ]
  },
  {
   "cell_type": "code",
   "execution_count": 48,
   "metadata": {},
   "outputs": [
    {
     "name": "stdout",
     "output_type": "stream",
     "text": [
      "['대구 의료인들의 근무 환경이 이만저만 열악한 것이 아닙니다', '일회용인 방호복을 닦아 쓰라고 하는가 하면, 의료진은 증상이 없으면 코로나19 검체 조사를 안 해 준다고 합니다', '대전의 한 간호사는 지난달 8일부터 22일까지 대구 동산병원에 의료지원을 갔다, 확진 판정을 받았습니다', '대구지역 대학병원 중환자실에 지원한 또다른 간호사는 의료진의 감염이 위험 수준이라고 말합니다', ' \"의료인도 턱없이 부족하고, 물품도 너무 부족하고, 안전을 담보로 해서 간호를 해야 할 줄은…', ' 지원서를 쓸 때로 돌아간다면 다시 심각하게 고민해야…', '방호복은 안전도순으로 레벨A부터 레벨D까지 있습니다', '중환자실 의료진은 레벨 C를 착용해야 하지만, 상당수 의료진이 한 단계 낮은 레벨 D를 사용 중입니다', '일회용인 레벨 C의 방호복은 한 달 가까이 재사용 중입니다', ' \"한 번 사용하면 폐기가 원칙이지만, 수입이 어렵고 재고가 없다는 이유로 병원 측에서는 닦아서 쓰라고…', '더구나 보건당국은 의료진을 코로나19 전수 조사에서 쏙 뺐습니다', '\"전수조사도 \\'간호사도 받아야 하는 거 아니냐\\'고 병원 측에 물어봤지만 아니라고 답변이 와서 유증상이 있지 않은 한 검사는 불가능하다고…', '지금까지 코로나19 치료 중 감염된 의료진만 240여 명, 부족한 의료장비와 불안을 해소할 대책이 필요합니다']\n"
     ]
    }
   ],
   "source": [
    "n = 10\n",
    "\n",
    "Doc = [[] for i in range(n)]\n",
    "\n",
    "for i in range(n):\n",
    "    with open(\"data/issue2/false/\"+str(i)+\".txt\", mode = 'r',encoding='UTF8') as f:\n",
    "        while True:   \n",
    "            line = f.readline()\n",
    "            if not line:\n",
    "                break\n",
    "            Doc[i].append(str(line).replace('\\n',''))\n",
    "    f.close()\n",
    "\n",
    "for k in range(len(Doc)) : \n",
    "    for i in range(len(Doc[k])) :\n",
    "        Doc[k][i] = Doc[k][i].split('.')[:-1]\n",
    "    Doc[k] = [j for i in Doc[k] for j in i]\n",
    "\n",
    "print(Doc[0])"
   ]
  },
  {
   "cell_type": "code",
   "execution_count": 49,
   "metadata": {},
   "outputs": [
    {
     "name": "stdout",
     "output_type": "stream",
     "text": [
      "지금까지 코로나19 치료 중 감염된 의료진만 240여 명, 부족한 의료장비와 불안을 해소할 대책이 필요합니다\n",
      "코로나19 사태가 길어지면서 방역물품도 동이 나 확진자나 유증상자를 대하는 의료진 말고는 수술복과 비닐이 전부입니다\n",
      "의료진들이 방호복과 마스크 부족으로 도와달라고 절규를 해도 외면하고 있다\n",
      "의료진 방호복 부족으로 비닐옷 입고 환자치료\n",
      " 박 장관은 마스크 등 의료용품 부족 현상에 대해 “자신(의료진)들이 좀 더 넉넉하게 재고를 쌓아두고 싶은 심정에서 부족함을 느끼는 것”이라고 답했다\n",
      "방호복은 중국에 퍼주고 현실은 마스크와 방호복 보안경도 부족\n",
      "대구 의료진들이 의료용 마스크 부족, 방호복 부족 호소하니\n",
      " 방호복이 부족하면 의료진이 움직일 수 있겠냐\n",
      "대구 각 병원에 전동식 호흡 보호구(PAPR)가 지급되면 이러한 문제를 조금이나마 해결할 수 있다\n",
      "의료연대본부는 \"정부와 대구시가 몇만개의 방호복을 배포했다고 자랑만 하지 말고 현장에서 방호물품에 대한 걱정없이 환자 치료에 집중할 수 있도록 지원해 달라\"고 호소했다\n"
     ]
    }
   ],
   "source": [
    "keySen_false = []\n",
    "\n",
    "def tf(textList):\n",
    "    senList = [okt.nouns(i) for i in textList]\n",
    "    total = sum([len(i) for i in senList])\n",
    "    totalList = [j for i in [k for k in senList] for j in i]\n",
    "    for i,v in enumerate(senList) : \n",
    "        senList[i] = [totalList.count(k)/total for k in v]\n",
    "    return senList\n",
    "\n",
    "def idf(textList):\n",
    "    senList = [okt.nouns(i) for i in textList]\n",
    "    numSen = len(senList)\n",
    "    for i,v in enumerate(senList) :\n",
    "        senList[i] = [math.log10(len([j for j in senList if k in j])/numSen) for k in v]\n",
    "    return senList\n",
    "\n",
    "def tfidf(textList):\n",
    "    tfList = tf(textList)\n",
    "    idfList = idf(textList)\n",
    "    tfidfList = [[tfList[i][k]*idfList[i][k] for k in range(len(tfList[i]))] for i in range(len(tfList))]\n",
    "    tfidfList = [sum(tfidfList[i])/len(tfidfList[i]) for i in range(len(tfidfList))]\n",
    "    return textList[tfidfList.index(sorted(tfidfList)[0])]\n",
    "    \n",
    "for i in range(n) :\n",
    "    keySen_false.append(tfidf(Doc[i]))\n",
    "    print(tfidf(Doc[i]))"
   ]
  }
 ],
 "metadata": {
  "kernelspec": {
   "display_name": "Python 3",
   "language": "python",
   "name": "python3"
  },
  "language_info": {
   "codemirror_mode": {
    "name": "ipython",
    "version": 3
   },
   "file_extension": ".py",
   "mimetype": "text/x-python",
   "name": "python",
   "nbconvert_exporter": "python",
   "pygments_lexer": "ipython3",
   "version": "3.7.1"
  }
 },
 "nbformat": 4,
 "nbformat_minor": 2
}
