{
 "cells": [
  {
   "cell_type": "markdown",
   "metadata": {},
   "source": [
    "# 정부가 의료진이 전신보호복이 아니라 일반 가운을 입도록 권고했다?"
   ]
  },
  {
   "cell_type": "code",
   "execution_count": 11,
   "metadata": {},
   "outputs": [
    {
     "name": "stdout",
     "output_type": "stream",
     "text": [
      "['중앙방역대책본부는 전문가 및 국제기구의 권고에 따라 감염 위험도에 따른 의료진의 보호구 착용 기준을 마련하였습니다', '이에 따라 검체 체취 등의 행위 시에는 전신보호복과 일회용 방수성 긴팔 가운 세트(장갑, 보안경, 호흡기보호구 등 포함) 중 선택하여 착용할 수 있도록 하였습니다', '해당 가운은 일반 가운이 아니라, 바이러스 비말 오염을 방지하는 방수성 가운입니다', '전신보호복을 착용해야 하는 의료진에게는 전신보호복을 계속 지원하고 있습니다', ' 2,18~3,10까지 대구 지역에 18,1만 세트, 경북 지역에 7,4만 세트가 지원되었습니다']\n"
     ]
    }
   ],
   "source": [
    "n = 5\n",
    "\n",
    "Doc = [[] for i in range(n)]\n",
    "\n",
    "for i in range(n):\n",
    "    with open(\"data/issue3/true/\"+str(i)+\".txt\", mode = 'r',encoding='UTF8') as f:\n",
    "        while True:   \n",
    "            line = f.readline()\n",
    "            if not line:\n",
    "                break\n",
    "            Doc[i].append(str(line).replace('\\n',''))\n",
    "    f.close()\n",
    "\n",
    "for k in range(len(Doc)) : \n",
    "    for i in range(len(Doc[k])) :\n",
    "        Doc[k][i] = Doc[k][i].split('.')[:-1]\n",
    "    Doc[k] = [j for i in Doc[k] for j in i]\n",
    "\n",
    "print(Doc[0])"
   ]
  },
  {
   "cell_type": "code",
   "execution_count": 12,
   "metadata": {},
   "outputs": [
    {
     "name": "stdout",
     "output_type": "stream",
     "text": [
      "전신보호복을 착용해야 하는 의료진에게는 전신보호복을 계속 지원하고 있습니다\n",
      "4일 사실과 다른 정보를 담고 있는 해당 게시물에 대해 삭제 및 접속차단 등 시정요구를 결정했습니다\n",
      " 그는 “정부는 국민들과 의료인의 오해를 없애기 위해 ‘레벨D 보호복’과 ‘가운’ 중 선택할 수 있도록 하고, ‘레벨D 보호복’을 원하는 의료인에게 계속 지급하기로 했다”고 설명했다\n",
      "권 부본부장은 \"호흡기 검체를 채취할 때에는 전신보호복 레벨 D 또는 긴팔 가운 중에서 선택해 착용하는데, 단순히 긴팔 가운이 아니라 가운 세트\"라며 \"여기에 장갑이나 보안경, 호흡기 보호구 등이 같이 포함된 것으로 이를 통해 의료진 보호가 가능하다\"고 강조했다\n",
      "권 부본부장은 \"호흡기 검체를 채취할 때에는 전신보호복 레벨 D 또는 긴팔 가운 중에서 선택해 착용하는데, 단순히 긴팔 가운이 아니라 가운 세트\"라며 \"여기에 장갑이나 보안경, 호흡기 보호구 등이 같이 포함된 것으로 이를 통해 의료진 보호가 가능하다\"고 강조했다\n"
     ]
    }
   ],
   "source": [
    "from konlpy.tag import Okt\n",
    "import math\n",
    "okt = Okt()\n",
    "\n",
    "keySen_true = []\n",
    "\n",
    "def tf(textList):\n",
    "    senList = [okt.nouns(i) for i in textList]\n",
    "    total = sum([len(i) for i in senList])\n",
    "    totalList = [j for i in [k for k in senList] for j in i]\n",
    "    for i,v in enumerate(senList) : \n",
    "        senList[i] = [totalList.count(k)/total for k in v]\n",
    "    return senList\n",
    "\n",
    "def idf(textList):\n",
    "    senList = [okt.nouns(i) for i in textList]\n",
    "    numSen = len(senList)\n",
    "    for i,v in enumerate(senList) :\n",
    "        senList[i] = [math.log10(len([j for j in senList if k in j])/numSen) for k in v]\n",
    "    return senList\n",
    "\n",
    "def tfidf(textList):\n",
    "    tfList = tf(textList)\n",
    "    idfList = idf(textList)\n",
    "    tfidfList = [[tfList[i][k]*idfList[i][k] for k in range(len(tfList[i]))] for i in range(len(tfList))]\n",
    "    tfidfList = [sum(tfidfList[i])/len(tfidfList[i]) for i in range(len(tfidfList))]\n",
    "    return textList[tfidfList.index(sorted(tfidfList)[0])]\n",
    "    \n",
    "for i in range(n) :\n",
    "    keySen_true.append(tfidf(Doc[i]))\n",
    "    print(tfidf(Doc[i]))"
   ]
  },
  {
   "cell_type": "code",
   "execution_count": 13,
   "metadata": {},
   "outputs": [
    {
     "name": "stdout",
     "output_type": "stream",
     "text": [
      "['신종 코로나바이러스 감염증(코로나19)과 사투를 벌이고 있는 대구 지역 의료진이 ‘전신방호복이 아닌 가운 사용을 권장한다’는 정부 지침에 반발하고 있다', '중앙방역대책본부(중대본)는 25일 “최근 보호구 소요량이 증가하고 의료기관의 건의가 있어서 격리 공간에서 검체를 채취할 때 전신방호복이 아닌 가운 사용을 권장한다”는 내용의 공문을 각 지방자치단체에 발송했다', '현재 선별진료소 의료진은 온몸을 완벽하게 가리는 ‘레벨D 방호복’을 착용한다', ' 중대본 지침이 시행되면 수술용 가운에 마스크, 고글, 장갑을 착용하게 된다', ' 중대본은 “가운이 레벨D 방호복보다 차단율이 낮을 순 있지만 같은 방호도구이고, 코로나19는 호흡기로 전파되므로 안전하다”고 설명했다', '현장의 의료진들은 “직접 검체 채취를 안 해봐서 저런 발상이 나온 것” “대구 진료소의 위험한 상황을 모르는 소리”라며 불만을 터뜨렸다']\n"
     ]
    }
   ],
   "source": [
    "n = 5\n",
    "\n",
    "Doc = [[] for i in range(n)]\n",
    "\n",
    "for i in range(n):\n",
    "    with open(\"data/issue3/false/\"+str(i)+\".txt\", mode = 'r',encoding='UTF8') as f:\n",
    "        while True:   \n",
    "            line = f.readline()\n",
    "            if not line:\n",
    "                break\n",
    "            Doc[i].append(str(line).replace('\\n',''))\n",
    "    f.close()\n",
    "\n",
    "for k in range(len(Doc)) : \n",
    "    for i in range(len(Doc[k])) :\n",
    "        Doc[k][i] = Doc[k][i].split('.')[:-1]\n",
    "    Doc[k] = [j for i in Doc[k] for j in i]\n",
    "\n",
    "print(Doc[0])"
   ]
  },
  {
   "cell_type": "code",
   "execution_count": 14,
   "metadata": {},
   "outputs": [
    {
     "name": "stdout",
     "output_type": "stream",
     "text": [
      " 중대본은 “가운이 레벨D 방호복보다 차단율이 낮을 순 있지만 같은 방호도구이고, 코로나19는 호흡기로 전파되므로 안전하다”고 설명했다\n",
      "대한공보의협의회는 성명서를 내고 \"의료진 감염 방지 없이는 코로나19 방역도 없다\"면서 \"의료진 감염을 방지하기 위한 기본적 보호장구를 의료진이 아닌 행정상 권고로 결정돼 아쉽다\"고 지적했다\n",
      "\"정부에 아무런 보호장비 없이 의료인을 사지로 내몰 권리가 있느냐\"고 따져물은 전라남도의사회는 \"(가운만 갈아입어도) 감염의 우려가 없고 위험하지 않다고 생각한다면 지금 당장 공무원을 동원해 의사의 지사하에 직접 검체를 채취하라\"고 목소리를 높였다\n",
      "의변은 “의료진이 감염으로부터 스스로를 보호할 수 있는 수준의 보호장구를 착용하고 현장에 투입돼야 하는 것은 방역의 기본”이라며 “검체 채취시 전신보호복 대신 차폐가 불가능한 일반 가운을 입고 방역의 최전선에 서게 되면 의료진 감염은 시간문제”라고 주장했다\n",
      "대한공보의협의회는 성명서를 내고 \"의료진 감염 방지 없이는 코로나19 방역도 없다\"면서 \"의료진 감염을 방지하기 위한 기본적 보호장구를 의료진이 아닌 행정상 권고로 결정돼 아쉽다\"고 지적했다\n"
     ]
    }
   ],
   "source": [
    "keySen_false = []\n",
    "\n",
    "def tf(textList):\n",
    "    senList = [okt.nouns(i) for i in textList]\n",
    "    total = sum([len(i) for i in senList])\n",
    "    totalList = [j for i in [k for k in senList] for j in i]\n",
    "    for i,v in enumerate(senList) : \n",
    "        senList[i] = [totalList.count(k)/total for k in v]\n",
    "    return senList\n",
    "\n",
    "def idf(textList):\n",
    "    senList = [okt.nouns(i) for i in textList]\n",
    "    numSen = len(senList)\n",
    "    for i,v in enumerate(senList) :\n",
    "        senList[i] = [math.log10(len([j for j in senList if k in j])/numSen) for k in v]\n",
    "    return senList\n",
    "\n",
    "def tfidf(textList):\n",
    "    tfList = tf(textList)\n",
    "    idfList = idf(textList)\n",
    "    tfidfList = [[tfList[i][k]*idfList[i][k] for k in range(len(tfList[i]))] for i in range(len(tfList))]\n",
    "    tfidfList = [sum(tfidfList[i])/len(tfidfList[i]) for i in range(len(tfidfList))]\n",
    "    return textList[tfidfList.index(sorted(tfidfList)[0])]\n",
    "    \n",
    "for i in range(n) :\n",
    "    keySen_false.append(tfidf(Doc[i]))\n",
    "    print(tfidf(Doc[i]))"
   ]
  }
 ],
 "metadata": {
  "kernelspec": {
   "display_name": "Python 3",
   "language": "python",
   "name": "python3"
  },
  "language_info": {
   "codemirror_mode": {
    "name": "ipython",
    "version": 3
   },
   "file_extension": ".py",
   "mimetype": "text/x-python",
   "name": "python",
   "nbconvert_exporter": "python",
   "pygments_lexer": "ipython3",
   "version": "3.7.1"
  }
 },
 "nbformat": 4,
 "nbformat_minor": 2
}
