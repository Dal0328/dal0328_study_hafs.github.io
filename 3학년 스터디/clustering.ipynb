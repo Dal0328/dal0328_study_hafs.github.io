{
 "cells": [
  {
   "cell_type": "markdown",
   "metadata": {},
   "source": [
    "# K-means Clustering을 이용한 도시지역 군집화"
   ]
  },
  {
   "cell_type": "code",
   "execution_count": 1,
   "metadata": {},
   "outputs": [
    {
     "name": "stdout",
     "output_type": "stream",
     "text": [
      "===============================================================================================================================\n",
      "                                                           지역명                                                              \n",
      "===============================================================================================================================\n",
      "['종로구', '중구', '용산구', '성동구', '광진구', '동대문구', '중랑구', '성북구', '강북구', '도봉구', '노원구', '은평구', '서대문구', '마포구', '양천구', '강서구', '구로구', '금천구', '영등포구', '동작구', '관악구', '서초구', '강남구', '송파구', '강동구', '수원시', '성남시', '의정부시', '안양시', '부천시', '광명시', '평택시', '동두천시', '안산시', '고양시', '과천시', '구리시', '남양주시', '오산시', '시흥시', '군포시', '의왕시', '하남시', '용인시', '파주시', '이천시', '안성시', '김포시', '화성시', '광주시', '양주시', '포천시', '여주시', '연천군', '가평군', '양평군']\n",
      "\n",
      "===============================================================================================================================\n",
      "                                                        주간인구지수                                                           \n",
      "===============================================================================================================================\n",
      "['265.70', '372.80', '127.40', '109.60', '92.60', '108.60', '78.30', '92.50', '79.50', '77.40', '84.70', '74.60', '111.20', '119.30', '79.30', '86.70', '105.20', '128.10', '146.10', '89.10', '78.40', '140.70', '188.00', '95.80', '83.60', '90.83', '99.73', '84.09', '91.95', '87.71', '79.94', '105.00', '91.16', '98.18', '85.41', '104.91', '87.82', '81.60', '86.10', '102.91', '83.36', '82.70', '95.16', '90.80', '98.11', '108.98', '108.64', '97.58', '118.60', '92.83', '96.88', '121.13', '103.50', '104.72', '104.19', '95.83']\n"
     ]
    }
   ],
   "source": [
    "popDaytime = []\n",
    "area = []\n",
    "\n",
    "with open(\"C:\\\\Users\\dahyun\\Desktop/3학년 스터디\\주간인구지수.txt\", mode = 'r') as f:\n",
    "    while True:   \n",
    "        line = f.readline()\n",
    "        if not line:\n",
    "            break\n",
    "        popDaytime.append(str(line).replace('\\n',''))\n",
    "f.close()\n",
    "\n",
    "for i, v in enumerate(popDaytime) :\n",
    "    area.append(v.split('\\t')[1])\n",
    "    popDaytime[i] = v.split('\\t')[-1]\n",
    "\n",
    "print(\"===============================================================================================================================\")\n",
    "print(\"                                                           지역명                                                              \")\n",
    "print(\"===============================================================================================================================\")\n",
    "print(area)\n",
    "print(\"\")\n",
    "print(\"===============================================================================================================================\")\n",
    "print(\"                                                        주간인구지수                                                           \")\n",
    "print(\"===============================================================================================================================\")\n",
    "print(popDaytime)"
   ]
  },
  {
   "cell_type": "code",
   "execution_count": 2,
   "metadata": {},
   "outputs": [
    {
     "name": "stdout",
     "output_type": "stream",
     "text": [
      "===============================================================================================================================\n",
      "                                                          인구밀도                                                             \n",
      "===============================================================================================================================\n",
      "[6482.057716436638, 12611.1334002006, 10669.501600365797, 17636.757719714966, 21136.01173020528, 24617.429938482568, 22337.23691311387, 18707.73930753564, 13996.319796954314, 16846.139088729014, 16203.694303440496, 17294.89406043765, 17735.28409090909, 16239.757017176371, 27830.672027570363, 14228.840579710146, 20978.72763419483, 17672.700074794317, 15544.312114989732, 24444.234289200733, 17235.813324315182, 9477.386508273228, 14576.359039190898, 19500.945067926757, 18675.0, 9778.96648505861, 6849.696798758991, 12592.475490196079, 16690.83133766678, 15883.76052385407, 18122.17605816671, 4220.481502400452, 19623.243243243243, 3986.1343133979285, 2400.479541308314, 12104.239888423988, 11963.232201862422, 1750.7796021340835, 8067.7736202058, 2612.4505486302905, 7907.563256325633, 5789.572142989442, 2202.6547721410143, 528.4433913670547, 2578.9027431421446, 2269.8881594942864, 1155.7885959848632, 1522.535073089375, 498.2626824183461, 967.7986764193661, 739.7761343194084, 2804.6607975142415, 3778.4033937524105, 2309.748743718593, 757.2108926608865, 893.06640625]\n"
     ]
    }
   ],
   "source": [
    "pop = []\n",
    "extent = []\n",
    "popDensity = []\n",
    "\n",
    "with open(\"C:\\\\Users\\dahyun\\Desktop/3학년 스터디\\인구수.txt\", mode = 'r') as f:\n",
    "    while True:   \n",
    "        line = f.readline()\n",
    "        if not line:\n",
    "            break\n",
    "        pop.append(float(str(line).replace('\\n','').split('\\t')[-1]))\n",
    "f.close()\n",
    "\n",
    "with open(\"C:\\\\Users\\dahyun\\Desktop/3학년 스터디\\도시지역면적.txt\", mode = 'r') as f:\n",
    "    while True:   \n",
    "        line = f.readline()\n",
    "        if not line:\n",
    "            break\n",
    "        extent.append(float(str(line).replace('\\n','').split('\\t')[-1]))\n",
    "f.close()\n",
    "\n",
    "for i in range(len(pop)) :\n",
    "    popDensity.append(pop[i]/extent[i])\n",
    "\n",
    "print(\"===============================================================================================================================\")\n",
    "print(\"                                                          인구밀도                                                             \")\n",
    "print(\"===============================================================================================================================\")\n",
    "print(popDensity)"
   ]
  },
  {
   "cell_type": "code",
   "execution_count": 3,
   "metadata": {},
   "outputs": [
    {
     "data": {
      "text/plain": [
       "<function matplotlib.pyplot.show(*args, **kw)>"
      ]
     },
     "execution_count": 3,
     "metadata": {},
     "output_type": "execute_result"
    }
   ],
   "source": [
    "%matplotlib qt\n",
    "import numpy as np\n",
    "import matplotlib.pylab as plt\n",
    "from sklearn.cluster import KMeans\n",
    "from scipy.spatial.distance import cdist\n",
    "\n",
    "plt.scatter(popDaytime,popDensity)\n",
    "plt.xlabel('Daytime Population')\n",
    "plt.ylabel('Population Density')\n",
    "plt.title('Daytime Population and Poplation Density in Seoul and Gyeonggi-do')\n",
    "plt.show"
   ]
  },
  {
   "attachments": {},
   "cell_type": "markdown",
   "metadata": {},
   "source": [
    "<img src=\"Figure1.png\">"
   ]
  },
  {
   "cell_type": "code",
   "execution_count": 4,
   "metadata": {},
   "outputs": [],
   "source": [
    "Z = np.array([[popDaytime[i],popDensity[i]] for i in range(len(pop))])\n",
    "\n",
    "distortions = []\n",
    "K = range(1,10)\n",
    "\n",
    "for k in K:\n",
    "    kmeanModel = KMeans(n_clusters=k).fit(Z)\n",
    "    kmeanModel.fit(Z)\n",
    "    distortions.append(sum(np.min(cdist(Z, kmeanModel.cluster_centers_, 'euclidean'), axis=1)) / Z.shape[0])\n",
    "\n",
    "plt.plot(K, distortions, 'bx-')\n",
    "plt.xlabel('k')\n",
    "plt.ylabel('Distortion')\n",
    "plt.title('The Elbow Method showing the optimal k')\n",
    "plt.show()"
   ]
  },
  {
   "cell_type": "markdown",
   "metadata": {},
   "source": [
    "<img src=\"Figure2.png\">"
   ]
  },
  {
   "attachments": {},
   "cell_type": "markdown",
   "metadata": {},
   "source": [
    "* 가장 크게 꺾인 지점에서의 K값이 최적 K값이다. 따라서 최적 K의 값은 2이다. "
   ]
  },
  {
   "cell_type": "code",
   "execution_count": 5,
   "metadata": {},
   "outputs": [
    {
     "data": {
      "text/plain": [
       "KMeans(algorithm='auto', copy_x=True, init='k-means++', max_iter=300,\n",
       "    n_clusters=2, n_init=10, n_jobs=None, precompute_distances='auto',\n",
       "    random_state=None, tol=0.0001, verbose=0)"
      ]
     },
     "execution_count": 5,
     "metadata": {},
     "output_type": "execute_result"
    }
   ],
   "source": [
    "#클러스터의 개수 지정(n개)\n",
    "num_clusters = 2\n",
    "\n",
    "#알맞은 매트릭스 Z 삽입\n",
    "km = KMeans(n_clusters=num_clusters)\n",
    "km.fit(Z)"
   ]
  },
  {
   "cell_type": "code",
   "execution_count": 6,
   "metadata": {},
   "outputs": [
    {
     "name": "stdout",
     "output_type": "stream",
     "text": [
      "[['중구', '용산구', '성동구', '광진구', '동대문구', '중랑구', '성북구', '강북구', '도봉구', '노원구', '은평구', '서대문구', '마포구', '양천구', '강서구', '구로구', '금천구', '영등포구', '동작구', '관악구', '강남구', '송파구', '강동구', '의정부시', '안양시', '부천시', '광명시', '동두천시', '과천시', '구리시'], ['종로구', '서초구', '수원시', '성남시', '평택시', '안산시', '고양시', '남양주시', '오산시', '시흥시', '군포시', '의왕시', '하남시', '용인시', '파주시', '이천시', '안성시', '김포시', '화성시', '광주시', '양주시', '포천시', '여주시', '연천군', '가평군', '양평군']]\n"
     ]
    }
   ],
   "source": [
    "result = km.labels_\n",
    "\n",
    "result_list = [[] for i in range(num_clusters)]\n",
    "\n",
    "for i, v in enumerate(result) :\n",
    "    result_list[v].append(area[i])\n",
    "\n",
    "print(result_list)"
   ]
  },
  {
   "cell_type": "code",
   "execution_count": 7,
   "metadata": {},
   "outputs": [
    {
     "data": {
      "text/plain": [
       "<function matplotlib.pyplot.show(*args, **kw)>"
      ]
     },
     "execution_count": 7,
     "metadata": {},
     "output_type": "execute_result"
    }
   ],
   "source": [
    "plt.scatter(popDaytime,popDensity,c=result)\n",
    "plt.xlabel('Daytime Population')\n",
    "plt.ylabel('Population Density')\n",
    "plt.title('Daytime Population and Poplation Density in Seoul and Gyeonggi-do')\n",
    "plt.show"
   ]
  },
  {
   "attachments": {},
   "cell_type": "markdown",
   "metadata": {},
   "source": [
    "<img src=\"Figure3.png\">"
   ]
  },
  {
   "cell_type": "markdown",
   "metadata": {},
   "source": [
    "<h1> K=3일때"
   ]
  },
  {
   "cell_type": "code",
   "execution_count": 8,
   "metadata": {},
   "outputs": [
    {
     "data": {
      "text/plain": [
       "KMeans(algorithm='auto', copy_x=True, init='k-means++', max_iter=300,\n",
       "    n_clusters=3, n_init=10, n_jobs=None, precompute_distances='auto',\n",
       "    random_state=None, tol=0.0001, verbose=0)"
      ]
     },
     "execution_count": 8,
     "metadata": {},
     "output_type": "execute_result"
    }
   ],
   "source": [
    "#클러스터의 개수 지정(n개)\n",
    "num_clusters = 3\n",
    "\n",
    "#알맞은 매트릭스 Z 삽입\n",
    "km = KMeans(n_clusters=num_clusters)\n",
    "km.fit(Z)"
   ]
  },
  {
   "cell_type": "code",
   "execution_count": 9,
   "metadata": {},
   "outputs": [
    {
     "data": {
      "text/plain": [
       "<function matplotlib.pyplot.show(*args, **kw)>"
      ]
     },
     "execution_count": 9,
     "metadata": {},
     "output_type": "execute_result"
    }
   ],
   "source": [
    "result = km.labels_\n",
    "\n",
    "plt.scatter(popDaytime,popDensity,c=result)\n",
    "plt.xlabel('Daytime Population')\n",
    "plt.ylabel('Population Density')\n",
    "plt.title('Daytime Population and Poplation Density in Seoul and Gyeonggi-do')\n",
    "plt.show"
   ]
  },
  {
   "attachments": {},
   "cell_type": "markdown",
   "metadata": {},
   "source": [
    "<img src=\"Figure4.png\">"
   ]
  }
 ],
 "metadata": {
  "kernelspec": {
   "display_name": "Python 3",
   "language": "python",
   "name": "python3"
  },
  "language_info": {
   "codemirror_mode": {
    "name": "ipython",
    "version": 3
   },
   "file_extension": ".py",
   "mimetype": "text/x-python",
   "name": "python",
   "nbconvert_exporter": "python",
   "pygments_lexer": "ipython3",
   "version": "3.7.1"
  }
 },
 "nbformat": 4,
 "nbformat_minor": 2
}
