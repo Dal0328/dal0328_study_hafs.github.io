{
 "cells": [
  {
   "cell_type": "markdown",
   "metadata": {},
   "source": [
    "# 볼록렌즈의 구면 수차  "
   ]
  },
  {
   "cell_type": "code",
   "execution_count": 1,
   "metadata": {},
   "outputs": [],
   "source": [
    "import math\n",
    "import matplotlib.pyplot as plt\n",
    "import numpy as np"
   ]
  },
  {
   "cell_type": "code",
   "execution_count": 2,
   "metadata": {},
   "outputs": [],
   "source": [
    "r1 = 20 # 곡면 반지름\n",
    "r2 = 20 # 곡면 반지름\n",
    "d_r = 30 # 두 곡면(원)의 중심 사이의 거리 \n",
    "h = 10 # 평행하게 쏘는 빛의 높이\n",
    "n_air = 1.0003 # 공기의 굴절률\n",
    "n_glass = 1.8 # 유리의 굴절률"
   ]
  },
  {
   "cell_type": "markdown",
   "metadata": {},
   "source": [
    "r1 : (x-15)^2+y^2=20^2  \n",
    "r2 : (x+15)^2+y^2=20^2"
   ]
  },
  {
   "cell_type": "code",
   "execution_count": 3,
   "metadata": {},
   "outputs": [
    {
     "name": "stdout",
     "output_type": "stream",
     "text": [
      "-2.3205080756887746 10 -0.5773502691896257 8.660254037844386\n"
     ]
    }
   ],
   "source": [
    "x1,y1 = -math.sqrt(r1**2-h**2)+(d_r/2),h # r2에서의 접점의 좌표\n",
    "w1 = (-(x1-(d_r/2)))/h # r2에서의 접선의 기울기\n",
    "b1 = y1-x1*w1\n",
    "w1_r = -(1/w1)\n",
    "b1_r = y1-x1*w1_r\n",
    "print(x1,y1,w1_r,b1_r)"
   ]
  },
  {
   "cell_type": "markdown",
   "metadata": {},
   "source": [
    "스넬의 법칙 : sin(theta1)/sin(theta2) = n2/n1  \n",
    "=> sin(theta2) = sin(theta1) * n1/n2  \n",
    "tan(theta2) = sin(theta2)/(math.sqrt(1-(sin(theta2)) ** 2))\n",
    "\n",
    "굴절된 빛의 기울기를 m이라하고 tan(b) = w1_r일 때,  \n",
    "tan(b+theta2) = m   \n",
    "m = (w1_r+tan(theta2))/(1-w1_r * tan(theta2))"
   ]
  },
  {
   "cell_type": "code",
   "execution_count": 4,
   "metadata": {},
   "outputs": [
    {
     "name": "stdout",
     "output_type": "stream",
     "text": [
      "-0.24687141729524162 9.427132882509659\n"
     ]
    }
   ],
   "source": [
    "sin_theta1 = (h-b1_r) / (math.sqrt(x1**2+(h-b1_r)**2))\n",
    "sin_theta2 = (n_air/n_glass) * sin_theta1\n",
    "tan_theta2 = sin_theta2/(math.sqrt(1-(sin_theta2) ** 2))\n",
    "w2 = (w1_r + tan_theta2)/(1-w1_r*tan_theta2)\n",
    "b2 = y1-x1*w2\n",
    "print(w2,b2)"
   ]
  },
  {
   "cell_type": "code",
   "execution_count": 5,
   "metadata": {},
   "outputs": [
    {
     "name": "stdout",
     "output_type": "stream",
     "text": [
      "3.0171574580840907 8.68228294462953\n"
     ]
    }
   ],
   "source": [
    "x2 = (-((d_r/2)+w2*b2)+math.sqrt(((d_r/2)+w2*b2)**2-(w2**2+1)*(b2**2+(d_r/2)**2-r1**2)))/(w2**2+1)\n",
    "y2 = w2*x2 +b2\n",
    "print(x2, y2)"
   ]
  },
  {
   "cell_type": "code",
   "execution_count": 6,
   "metadata": {},
   "outputs": [
    {
     "name": "stdout",
     "output_type": "stream",
     "text": [
      "0.481889718998592 7.228345784978882\n"
     ]
    }
   ],
   "source": [
    "w3 = -1/((-(x2+(d_r/2)))/y2)\n",
    "b3 = y2-x2*w3\n",
    "print(w3,b3)"
   ]
  },
  {
   "cell_type": "code",
   "execution_count": 7,
   "metadata": {},
   "outputs": [
    {
     "name": "stdout",
     "output_type": "stream",
     "text": [
      "-0.7365048919953392 10.904434172428687\n"
     ]
    }
   ],
   "source": [
    "tan_theta1 = (w3-w2)/(1+w2*w3)\n",
    "sin_theta1 = tan_theta1/(1+tan_theta1**2)\n",
    "sin_theta2 = sin_theta1 * (n_glass/n_air)\n",
    "tan_theta2 = sin_theta2/(math.sqrt(1-(sin_theta2) ** 2))\n",
    "w4 = (w3-tan_theta2)/(1+w3*tan_theta2)\n",
    "b4 = y2 - x2*w4\n",
    "print(w4,b4)"
   ]
  },
  {
   "cell_type": "code",
   "execution_count": 8,
   "metadata": {},
   "outputs": [
    {
     "name": "stdout",
     "output_type": "stream",
     "text": [
      "14.80565070367203\n"
     ]
    }
   ],
   "source": [
    "f = -b4/w4\n",
    "print(f)"
   ]
  },
  {
   "cell_type": "code",
   "execution_count": 9,
   "metadata": {},
   "outputs": [],
   "source": [
    "def findf(r, d, height) :\n",
    "    r1 = r # 곡면 반지름\n",
    "    r2 = r\n",
    "    d_r = d # 두 곡면(원)의 중심 사이의 거리 \n",
    "    h = height # 평행하게 쏘는 빛의 높이\n",
    "    n_air = 1.0003 # 공기의 굴절률\n",
    "    n_glass = 1.8 # 유리의 굴절률\n",
    "    \n",
    "    x1,y1 = -math.sqrt(r1**2-h**2)+(d_r/2),h # r2에서의 접점의 좌표\n",
    "    w1 = (-(x1-(d_r/2)))/h # r2에서의 접선의 기울기\n",
    "    b1 = y1-x1*w1\n",
    "    w1_r = -(1/w1)\n",
    "    b1_r = y1-x1*w1_r\n",
    "    \n",
    "    sin_theta1 = (h-b1_r) / (math.sqrt(x1**2+(h-b1_r)**2))\n",
    "    sin_theta2 = (n_air/n_glass) * sin_theta1\n",
    "    tan_theta2 = sin_theta2/(math.sqrt(1-(sin_theta2) ** 2))\n",
    "    w2 = (w1_r + tan_theta2)/(1-w1_r*tan_theta2)\n",
    "    b2 = y1-x1*w2\n",
    "    \n",
    "    x2 = (-((d_r/2)+w2*b2)+math.sqrt(((d_r/2)+w2*b2)**2-(w2**2+1)*(b2**2+(d_r/2)**2-r1**2)))/(w2**2+1)\n",
    "    y2 = w2*x2 +b2\n",
    "    \n",
    "    w3 = -1/((-(x2+(d_r/2)))/y2)\n",
    "    b3 = y2-x2*w3\n",
    "    \n",
    "    tan_theta1 = (w3-w2)/(1+w2*w3)\n",
    "    sin_theta1 = tan_theta1/(1+tan_theta1**2)\n",
    "    sin_theta2 = sin_theta1 * (n_glass/n_air)\n",
    "    tan_theta2 = sin_theta2/(math.sqrt(1-(sin_theta2) ** 2))\n",
    "    w4 = (w3-tan_theta2)/(1+w3*tan_theta2)\n",
    "    b4 = y2 - x2*w4\n",
    "    \n",
    "    f = -b4/w4\n",
    "    return f"
   ]
  },
  {
   "cell_type": "code",
   "execution_count": 10,
   "metadata": {},
   "outputs": [
    {
     "name": "stderr",
     "output_type": "stream",
     "text": [
      "C:\\Users\\dahyun\\Anaconda3\\lib\\site-packages\\ipykernel_launcher.py:10: RuntimeWarning: divide by zero encountered in double_scalars\n",
      "  # Remove the CWD from sys.path while we load stuff.\n",
      "C:\\Users\\dahyun\\Anaconda3\\lib\\site-packages\\ipykernel_launcher.py:24: RuntimeWarning: divide by zero encountered in double_scalars\n",
      "C:\\Users\\dahyun\\Anaconda3\\lib\\site-packages\\ipykernel_launcher.py:34: RuntimeWarning: invalid value encountered in double_scalars\n"
     ]
    },
    {
     "data": {
      "image/png": "[encoded data removed]",
      "text/plain": [
       "<Figure size 432x288 with 1 Axes>"
      ]
     },
     "metadata": {
      "needs_background": "light"
     },
     "output_type": "display_data"
    }
   ],
   "source": [
    "hlist= np.arange(0.0, 5.0, 0.01)\n",
    "flist = [findf(20,30,i) for i in hlist]\n",
    "plt.show()\n",
    "plt.plot(hlist, flist,'r-')\n",
    "plt.show()"
   ]
  },
  {
   "cell_type": "markdown",
   "metadata": {},
   "source": [
    "# 렌즈 한 면은 평평하고 한 면은 구면일 때"
   ]
  },
  {
   "cell_type": "code",
   "execution_count": 11,
   "metadata": {},
   "outputs": [],
   "source": [
    "def findf_(r, d, height) :\n",
    "    r1 = r # 곡면 반지름\n",
    "    d_r = d # 두 곡면(원)의 중심 사이의 거리 \n",
    "    h = height # 평행하게 쏘는 빛의 높이\n",
    "    n_air = 1.0003 # 공기의 굴절률\n",
    "    n_glass = 1.8 # 유리의 굴절률\n",
    "    \n",
    "    x1,y1 = -math.sqrt(r1**2-h**2)+(d_r/2),h # r2에서의 접점의 좌표\n",
    "    w1 = (-(x1-(d_r/2)))/h # r2에서의 접선의 기울기\n",
    "    b1 = y1-x1*w1\n",
    "    w1_r = -(1/w1)\n",
    "    b1_r = y1-x1*w1_r\n",
    "    \n",
    "    sin_theta1 = (h-b1_r) / (math.sqrt(x1**2+(h-b1_r)**2))\n",
    "    sin_theta2 = (n_air/n_glass) * sin_theta1\n",
    "    tan_theta2 = sin_theta2/(math.sqrt(1-(sin_theta2) ** 2))\n",
    "    w2 = (w1_r + tan_theta2)/(1-w1_r*tan_theta2)\n",
    "    b2 = y1-x1*w2\n",
    "    \n",
    "    f = -b2/w2\n",
    "    return f"
   ]
  },
  {
   "cell_type": "code",
   "execution_count": 12,
   "metadata": {},
   "outputs": [
    {
     "name": "stderr",
     "output_type": "stream",
     "text": [
      "C:\\Users\\dahyun\\Anaconda3\\lib\\site-packages\\ipykernel_launcher.py:9: RuntimeWarning: divide by zero encountered in double_scalars\n",
      "  if __name__ == '__main__':\n",
      "C:\\Users\\dahyun\\Anaconda3\\lib\\site-packages\\ipykernel_launcher.py:20: RuntimeWarning: invalid value encountered in double_scalars\n"
     ]
    },
    {
     "data": {
      "image/png": "[encoded data removed]",
      "text/plain": [
       "<Figure size 432x288 with 1 Axes>"
      ]
     },
     "metadata": {
      "needs_background": "light"
     },
     "output_type": "display_data"
    }
   ],
   "source": [
    "hlist_ = np.arange(0.0, 5.0, 0.01)\n",
    "flist_ = [findf_(20,30,i) for i in hlist]\n",
    "plt.plot(hlist_, flist_,'r-')\n",
    "plt.show()"
   ]
  }
 ],
 "metadata": {
  "kernelspec": {
   "display_name": "Python 3",
   "language": "python",
   "name": "python3"
  },
  "language_info": {
   "codemirror_mode": {
    "name": "ipython",
    "version": 3
   },
   "file_extension": ".py",
   "mimetype": "text/x-python",
   "name": "python",
   "nbconvert_exporter": "python",
   "pygments_lexer": "ipython3",
   "version": "3.7.1"
  }
 },
 "nbformat": 4,
 "nbformat_minor": 2
}
